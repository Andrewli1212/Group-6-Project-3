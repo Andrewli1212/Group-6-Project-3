{
 "cells": [
  {
   "cell_type": "code",
   "execution_count": 1,
   "metadata": {},
   "outputs": [],
   "source": [
    "import os\n",
    "import pandas as pd\n",
    "import re"
   ]
  },
  {
   "cell_type": "code",
   "execution_count": 2,
   "metadata": {},
   "outputs": [
    {
     "name": "stdout",
     "output_type": "stream",
     "text": [
      "c:\\Users\\Dreiv\\OneDrive\\Desktop\\Project 3\n"
     ]
    }
   ],
   "source": [
    "print(os.getcwd())  "
   ]
  },
  {
   "cell_type": "code",
   "execution_count": 3,
   "metadata": {},
   "outputs": [
    {
     "name": "stdout",
     "output_type": "stream",
     "text": [
      "['Data', 'Heat Player Stats Clean Up.ipynb', 'index.html', 'Java', 'MIA TR Data Clean up.ipynb', 'Miami Heat Team Record.csv', 'Miami Team Stats.csv', 'MIA_TR_cleaned.csv', 'MIA_TS.csv', 'Pistons Data Clean Team Records.ipynb', 'SQL Table']\n"
     ]
    }
   ],
   "source": [
    "current_directory = os.getcwd()\n",
    "\n",
    "files_in_directory = os.listdir(current_directory)\n",
    "\n",
    "print(files_in_directory)"
   ]
  },
  {
   "cell_type": "code",
   "execution_count": 5,
   "metadata": {},
   "outputs": [
    {
     "name": "stdout",
     "output_type": "stream",
     "text": [
      "   Rk,Player,Age,G,GS,MP,FG,FGA,FG%,3P,3PA,3P%,2P,2PA,2P%,eFG%,FT,FTA,FT%,ORB,DRB,TRB,AST,STL,BLK,TOV,PF,PTS\n",
      "0   1,Tyler Herro,23,67,67,34.9,7.3,16.6,.439,3.0,...                                                       \n",
      "1   2,Bam Adebayo,25,75,75,34.6,8.0,14.9,.540,0.0,...                                                       \n",
      "2   3,Jimmy Butler,33,64,64,33.4,7.5,13.9,.539,0.6...                                                       \n",
      "3   4,Kyle Lowry,36,55,44,31.2,3.6,8.8,.404,1.9,5....                                                       \n",
      "4   5,Caleb Martin,27,71,49,29.3,3.6,7.7,.464,1.2,...                                                       \n",
      "5   6,Max Strus,26,80,33,28.4,4.1,9.9,.410,2.5,7.0...                                                       \n",
      "6   7,Victor Oladipo,30,42,2,26.3,3.8,9.6,.397,1.7...                                                       \n",
      "7   8,Gabe Vincent,26,68,34,25.9,3.4,8.3,.402,1.7,...                                                       \n",
      "8   9,Kevin Love,34,21,17,20.0,2.6,6.6,.388,1.4,4....                                                       \n",
      "9   10,Haywood Highsmith,26,54,11,17.9,1.7,4.0,.43...                                                       \n",
      "10  11,Duncan Robinson,28,42,1,16.5,2.1,5.6,.371,1...                                                       \n",
      "11  12,Jamaree Bouyea,23,4,0,16.3,1.5,3.3,.462,0.5...                                                       \n",
      "12  13,Cody Zeller,30,15,2,14.5,2.5,3.9,.627,0.0,0...                                                       \n",
      "13  14,Orlando Robinson,22,31,1,13.7,1.5,2.9,.528,...                                                       \n",
      "14  15,Nikola Jovi?,19,15,8,13.6,1.9,4.6,.406,0.5,...                                                       \n",
      "15  16,Dru Smith,25,5,1,13.4,1.0,2.8,.357,0.2,1.2,...                                                       \n",
      "16  17,Jamal Cain,23,18,0,13.3,2.1,3.7,.561,0.4,1....                                                       \n",
      "17  18,Dewayne Dedmon,33,30,0,11.7,2.1,4.3,.496,0....                                                       \n",
      "18  19,Udonis Haslem,42,7,1,10.1,1.4,4.1,.345,0.4,...                                                       \n",
      "19  20,Omer Yurtseven,24,9,0,9.2,1.8,3.0,.593,0.3,...                                                       \n"
     ]
    }
   ],
   "source": [
    "file_name = 'Miami Team Stats.csv'\n",
    "MIA_TS = pd.read_csv(file_name, encoding='ISO-8859-1')\n",
    "print(MIA_TS)"
   ]
  },
  {
   "cell_type": "code",
   "execution_count": 6,
   "metadata": {},
   "outputs": [
    {
     "name": "stdout",
     "output_type": "stream",
     "text": [
      "0   \"Rk             Player Age   G  GS    MP   FG   FGA   FG%   3P  ...   FT%   \n",
      "1    \"1        Tyler Herro  23  67  67  34.9  7.3  16.6  .439  3.0  ...  .934  \\\n",
      "2    \"2        Bam Adebayo  25  75  75  34.6  8.0  14.9  .540  0.0  ...  .806   \n",
      "3    \"3       Jimmy Butler  33  64  64  33.4  7.5  13.9  .539  0.6  ...  .850   \n",
      "4    \"4         Kyle Lowry  36  55  44  31.2  3.6   8.8  .404  1.9  ...  .859   \n",
      "5    \"5       Caleb Martin  27  71  49  29.3  3.6   7.7  .464  1.2  ...  .805   \n",
      "6    \"6          Max Strus  26  80  33  28.4  4.1   9.9  .410  2.5  ...  .876   \n",
      "7    \"7     Victor Oladipo  30  42   2  26.3  3.8   9.6  .397  1.7  ...  .747   \n",
      "8    \"8       Gabe Vincent  26  68  34  25.9  3.4   8.3  .402  1.7  ...  .872   \n",
      "9    \"9         Kevin Love  34  21  17  20.0  2.6   6.6  .388  1.4  ...  .857   \n",
      "10  \"10  Haywood Highsmith  26  54  11  17.9  1.7   4.0  .431  0.7  ...  .464   \n",
      "11  \"11    Duncan Robinson  28  42   1  16.5  2.1   5.6  .371  1.5  ...  .906   \n",
      "12  \"12     Jamaree Bouyea  23   4   0  16.3  1.5   3.3  .462  0.5  ...  .500   \n",
      "13  \"13        Cody Zeller  30  15   2  14.5  2.5   3.9  .627  0.0  ...  .686   \n",
      "14  \"14   Orlando Robinson  22  31   1  13.7  1.5   2.9  .528  0.0  ...  .710   \n",
      "15  \"15       Nikola Jovi?  19  15   8  13.6  1.9   4.6  .406  0.5  ...  .947   \n",
      "16  \"16          Dru Smith  25   5   1  13.4  1.0   2.8  .357  0.2  ...         \n",
      "17  \"17         Jamal Cain  23  18   0  13.3  2.1   3.7  .561  0.4  ...  .773   \n",
      "18  \"18     Dewayne Dedmon  33  30   0  11.7  2.1   4.3  .496  0.4  ...  .727   \n",
      "19  \"19      Udonis Haslem  42   7   1  10.1  1.4   4.1  .345  0.4  ...  .800   \n",
      "20  \"20     Omer Yurtseven  24   9   0   9.2  1.8   3.0  .593  0.3  ...  .833   \n",
      "\n",
      "0   ORB  DRB  TRB  AST  STL  BLK  TOV   PF   PTS\"  \n",
      "1   0.4  5.0  5.4  4.2  0.8  0.2  2.4  1.5  20.1\"  \n",
      "2   2.5  6.7  9.2  3.2  1.2  0.8  2.5  2.8  20.4\"  \n",
      "3   2.2  3.7  5.9  5.3  1.8  0.3  1.6  1.3  22.9\"  \n",
      "4   0.8  3.3  4.1  5.1  1.0  0.4  1.9  2.6  11.2\"  \n",
      "5   1.2  3.6  4.8  1.6  1.0  0.4  1.1  2.0   9.6\"  \n",
      "6   0.6  2.6  3.2  2.1  0.5  0.2  0.9  2.1  11.5\"  \n",
      "7   0.4  2.7  3.0  3.5  1.4  0.3  2.1  2.4  10.7\"  \n",
      "8   0.4  1.7  2.1  2.5  0.9  0.1  1.4  2.3   9.4\"  \n",
      "9   0.8  4.9  5.7  1.9  0.4  0.2  1.1  1.5   7.7\"  \n",
      "10  1.1  2.4  3.5  0.8  0.7  0.3  0.8  1.5   4.4\"  \n",
      "11  0.2  1.5  1.6  1.1  0.3  0.0  0.7  1.8   6.4\"  \n",
      "12  0.3  1.0  1.3  1.0  1.0  0.5  1.0  1.3   3.8\"  \n",
      "13  1.7  2.6  4.3  0.7  0.2  0.3  0.9  2.2   6.5\"  \n",
      "14  1.5  2.5  4.1  0.8  0.4  0.4  0.5  1.7   3.7\"  \n",
      "15  0.6  1.5  2.1  0.7  0.5  0.1  0.7  1.3   5.5\"  \n",
      "16  0.2  1.6  1.8  1.0  0.8  0.6  0.2  2.0   2.2\"  \n",
      "17  0.8  2.1  2.9  0.7  0.6  0.1  0.3  1.2   5.4\"  \n",
      "18  0.9  2.7  3.6  0.5  0.2  0.5  0.6  2.0   5.7\"  \n",
      "19  0.6  1.0  1.6  0.0  0.1  0.3  0.1  1.6   3.9\"  \n",
      "20  0.9  1.7  2.6  0.2  0.2  0.2  0.4  1.8   4.4\"  \n",
      "\n",
      "[20 rows x 28 columns]\n"
     ]
    }
   ],
   "source": [
    "# Read the file line by line and split using the custom separator\n",
    "data = []\n",
    "with open(file_name, 'r', encoding='ISO-8859-1') as file:\n",
    "    for line in file:\n",
    "        row = re.split(r',\\s*', line.strip())\n",
    "        data.append(row)\n",
    "\n",
    "# Convert the data to a DataFrame\n",
    "MIA_TS = pd.DataFrame(data)\n",
    "\n",
    "# If the first row contains headers, set them as column names\n",
    "MIA_TS.columns = MIA_TS.iloc[0]\n",
    "MIA_TS = MIA_TS[1:]\n",
    "\n",
    "print(MIA_TS)"
   ]
  },
  {
   "cell_type": "code",
   "execution_count": null,
   "metadata": {},
   "outputs": [],
   "source": [
    "# List all the different columns\n",
    "columns_list1 = MIA_TS.columns.tolist()\n",
    "\n",
    "# Print the list of columns\n",
    "print(columns_list1)"
   ]
  },
  {
   "cell_type": "code",
   "execution_count": 7,
   "metadata": {},
   "outputs": [
    {
     "name": "stdout",
     "output_type": "stream",
     "text": [
      "0              Player Age   FG%   3P%   FT%  TRB  AST  STL  BLK   PTS\"\n",
      "1         Tyler Herro  23  .439  .378  .934  5.4  4.2  0.8  0.2  20.1\"\n",
      "2         Bam Adebayo  25  .540  .083  .806  9.2  3.2  1.2  0.8  20.4\"\n",
      "3        Jimmy Butler  33  .539  .350  .850  5.9  5.3  1.8  0.3  22.9\"\n",
      "4          Kyle Lowry  36  .404  .345  .859  4.1  5.1  1.0  0.4  11.2\"\n",
      "5        Caleb Martin  27  .464  .356  .805  4.8  1.6  1.0  0.4   9.6\"\n",
      "6           Max Strus  26  .410  .350  .876  3.2  2.1  0.5  0.2  11.5\"\n",
      "7      Victor Oladipo  30  .397  .330  .747  3.0  3.5  1.4  0.3  10.7\"\n",
      "8        Gabe Vincent  26  .402  .334  .872  2.1  2.5  0.9  0.1   9.4\"\n",
      "9          Kevin Love  34  .388  .297  .857  5.7  1.9  0.4  0.2   7.7\"\n",
      "10  Haywood Highsmith  26  .431  .339  .464  3.5  0.8  0.7  0.3   4.4\"\n",
      "11    Duncan Robinson  28  .371  .328  .906  1.6  1.1  0.3  0.0   6.4\"\n",
      "12     Jamaree Bouyea  23  .462  .400  .500  1.3  1.0  1.0  0.5   3.8\"\n",
      "13        Cody Zeller  30  .627  .000  .686  4.3  0.7  0.2  0.3   6.5\"\n",
      "14   Orlando Robinson  22  .528  .000  .710  4.1  0.8  0.4  0.4   3.7\"\n",
      "15       Nikola Jovi?  19  .406  .229  .947  2.1  0.7  0.5  0.1   5.5\"\n",
      "16          Dru Smith  25  .357  .167        1.8  1.0  0.8  0.6   2.2\"\n",
      "17         Jamal Cain  23  .561  .350  .773  2.9  0.7  0.6  0.1   5.4\"\n",
      "18     Dewayne Dedmon  33  .496  .297  .727  3.6  0.5  0.2  0.5   5.7\"\n",
      "19      Udonis Haslem  42  .345  .333  .800  1.6  0.0  0.1  0.3   3.9\"\n",
      "20     Omer Yurtseven  24  .593  .429  .833  2.6  0.2  0.2  0.2   4.4\"\n"
     ]
    }
   ],
   "source": [
    "columns_to_drop = ['\"Rk', 'G', 'GS', 'MP', 'FG', 'FGA', '3P', '3PA', '2P', '2PA', '2P%', 'eFG%', 'FT', 'FTA', 'ORB', 'DRB', 'TOV', 'PF']\n",
    "\n",
    "MIA_TS.drop(columns=columns_to_drop, inplace=True)\n",
    "\n",
    "print(MIA_TS)"
   ]
  },
  {
   "cell_type": "code",
   "execution_count": 8,
   "metadata": {},
   "outputs": [
    {
     "name": "stdout",
     "output_type": "stream",
     "text": [
      "0              Player Age   FG%   3P%   FT%  TRB  AST  STL  BLK   PTS\"   PTS\n",
      "1         Tyler Herro  23  .439  .378  .934  5.4  4.2  0.8  0.2  20.1\"  20.1\n",
      "2         Bam Adebayo  25  .540  .083  .806  9.2  3.2  1.2  0.8  20.4\"  20.4\n",
      "3        Jimmy Butler  33  .539  .350  .850  5.9  5.3  1.8  0.3  22.9\"  22.9\n",
      "4          Kyle Lowry  36  .404  .345  .859  4.1  5.1  1.0  0.4  11.2\"  11.2\n",
      "5        Caleb Martin  27  .464  .356  .805  4.8  1.6  1.0  0.4   9.6\"   9.6\n",
      "6           Max Strus  26  .410  .350  .876  3.2  2.1  0.5  0.2  11.5\"  11.5\n",
      "7      Victor Oladipo  30  .397  .330  .747  3.0  3.5  1.4  0.3  10.7\"  10.7\n",
      "8        Gabe Vincent  26  .402  .334  .872  2.1  2.5  0.9  0.1   9.4\"   9.4\n",
      "9          Kevin Love  34  .388  .297  .857  5.7  1.9  0.4  0.2   7.7\"   7.7\n",
      "10  Haywood Highsmith  26  .431  .339  .464  3.5  0.8  0.7  0.3   4.4\"   4.4\n",
      "11    Duncan Robinson  28  .371  .328  .906  1.6  1.1  0.3  0.0   6.4\"   6.4\n",
      "12     Jamaree Bouyea  23  .462  .400  .500  1.3  1.0  1.0  0.5   3.8\"   3.8\n",
      "13        Cody Zeller  30  .627  .000  .686  4.3  0.7  0.2  0.3   6.5\"   6.5\n",
      "14   Orlando Robinson  22  .528  .000  .710  4.1  0.8  0.4  0.4   3.7\"   3.7\n",
      "15       Nikola Jovi?  19  .406  .229  .947  2.1  0.7  0.5  0.1   5.5\"   5.5\n",
      "16          Dru Smith  25  .357  .167        1.8  1.0  0.8  0.6   2.2\"   2.2\n",
      "17         Jamal Cain  23  .561  .350  .773  2.9  0.7  0.6  0.1   5.4\"   5.4\n",
      "18     Dewayne Dedmon  33  .496  .297  .727  3.6  0.5  0.2  0.5   5.7\"   5.7\n",
      "19      Udonis Haslem  42  .345  .333  .800  1.6  0.0  0.1  0.3   3.9\"   3.9\n",
      "20     Omer Yurtseven  24  .593  .429  .833  2.6  0.2  0.2  0.2   4.4\"   4.4\n"
     ]
    }
   ],
   "source": [
    "MIA_TS['PTS'] = MIA_TS['PTS\"'].str.replace('\"', '')\n",
    "print(MIA_TS)"
   ]
  },
  {
   "cell_type": "code",
   "execution_count": null,
   "metadata": {},
   "outputs": [],
   "source": [
    "MIA_TS.to_csv('Miami Heat Player Stats.csv', index=False)"
   ]
  }
 ],
 "metadata": {
  "kernelspec": {
   "display_name": "Python 3",
   "language": "python",
   "name": "python3"
  },
  "language_info": {
   "codemirror_mode": {
    "name": "ipython",
    "version": 3
   },
   "file_extension": ".py",
   "mimetype": "text/x-python",
   "name": "python",
   "nbconvert_exporter": "python",
   "pygments_lexer": "ipython3",
   "version": "3.11.3"
  },
  "orig_nbformat": 4
 },
 "nbformat": 4,
 "nbformat_minor": 2
}
