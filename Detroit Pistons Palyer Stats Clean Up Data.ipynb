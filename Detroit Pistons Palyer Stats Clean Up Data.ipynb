{
 "cells": [
  {
   "cell_type": "code",
   "execution_count": 1,
   "metadata": {},
   "outputs": [],
   "source": [
    "import os\n",
    "import pandas as pd\n",
    "import re"
   ]
  },
  {
   "cell_type": "code",
   "execution_count": 2,
   "metadata": {},
   "outputs": [
    {
     "name": "stdout",
     "output_type": "stream",
     "text": [
      "c:\\Users\\Dreiv\\OneDrive\\Desktop\\Project 3\n"
     ]
    }
   ],
   "source": [
    "print(os.getcwd())  "
   ]
  },
  {
   "cell_type": "code",
   "execution_count": 3,
   "metadata": {},
   "outputs": [
    {
     "name": "stdout",
     "output_type": "stream",
     "text": [
      "['Boston Celtics Player Stats.csv', 'Celtics Player Stats Clean Up.ipynb', 'Celtics Player Stats.csv', 'Data', 'Heat Player Stats Clean Up.ipynb', 'Heat Team Record Data Clean Up.ipynb', 'index.html', 'Java', 'MIA TR Data Clean up.ipynb', 'Miami Heat Player Stats.csv', 'Miami Heat Team Record.csv', 'Miami Heat Team Records.csv', 'Miami Team Stats.csv', 'MIA_TR_cleaned.csv', 'MIA_TS.csv', 'Pistons Player Stats.csv', 'PowerPoint Photo', 'SQL Table']\n"
     ]
    }
   ],
   "source": [
    "current_directory = os.getcwd()\n",
    "\n",
    "files_in_directory = os.listdir(current_directory)\n",
    "\n",
    "print(files_in_directory)"
   ]
  },
  {
   "cell_type": "code",
   "execution_count": 4,
   "metadata": {},
   "outputs": [
    {
     "name": "stdout",
     "output_type": "stream",
     "text": [
      "   Rk,Player,Age,G,GS,MP,FG,FGA,FG%,3P,3PA,3P%,2P,2PA,2P%,eFG%,FT,FTA,FT%,ORB,DRB,TRB,AST,STL,BLK,TOV,PF,PTS\n",
      "0   1,Cade Cunningham,21,12,12,33.3,7.8,18.7,.415,...                                                       \n",
      "1   2,Bojan Bogdanovi?,33,59,59,32.1,7.3,14.9,.488...                                                       \n",
      "2   3,Jaden Ivey,20,74,73,31.1,5.5,13.3,.416,1.6,4...                                                       \n",
      "3   4,Saddiq Bey,23,52,30,28.8,4.7,11.7,.404,1.9,5...                                                       \n",
      "4   5,Isaiah Stewart,21,50,47,28.3,3.9,8.8,.442,1....                                                       \n",
      "5   6,Killian Hayes,21,76,56,28.3,4.0,10.7,.377,1....                                                       \n",
      "6   7,James Wiseman,21,24,22,25.2,5.4,10.2,.531,0....                                                       \n",
      "7   8,Jalen Duren,19,67,31,24.9,3.9,5.9,.648,0.0,0...                                                       \n",
      "8   9,Marvin Bagley III,23,42,25,23.6,4.8,9.1,.529...                                                       \n",
      "9   10,Isaiah Livers,24,52,22,23.1,2.3,5.5,.417,1....                                                       \n",
      "10  11,Alec Burks,31,51,8,22.0,3.9,9.0,.436,1.9,4....                                                       \n",
      "11  12,Eugene Omoruyi,25,17,4,21.9,3.4,7.9,.425,1....                                                       \n",
      "12  13,Cory Joseph,31,62,2,19.8,2.4,5.7,.427,1.1,2...                                                       \n",
      "13  14,R.J. Hampton,21,21,3,18.5,2.5,5.9,.423,1.1,...                                                       \n",
      "14  15,Hamidou Diallo,24,56,0,17.8,3.8,6.7,.573,0....                                                       \n",
      "15  16,Rodney McGruder,31,32,12,16.4,1.9,4.8,.408,...                                                       \n",
      "16  17,Kevin Knox,23,42,1,14.1,2.0,4.3,.469,1.0,2....                                                       \n",
      "17  18,Jared Rhoden,23,14,0,14.1,1.2,3.1,.386,0.4,...                                                       \n",
      "18  19,Nerlens Noel,28,14,3,10.9,0.9,2.1,.400,0.1,...                                                       \n",
      "19  20,Buddy Boeheim,23,10,0,9.0,0.5,2.7,.185,0.4,...                                                       \n",
      "20  21,Braxton Key,25,3,0,3.0,0.3,0.3,1.000,0.0,0....                                                       \n",
      "21  22,Stanley Umude,23,1,0,2.0,0.0,1.0,.000,0.0,1...                                                       \n"
     ]
    }
   ],
   "source": [
    "file_name = 'Pistons Player Stats.csv'\n",
    "PT_TS = pd.read_csv(file_name, encoding='ISO-8859-1')\n",
    "print(PT_TS)"
   ]
  },
  {
   "cell_type": "code",
   "execution_count": 5,
   "metadata": {},
   "outputs": [
    {
     "name": "stdout",
     "output_type": "stream",
     "text": [
      "0   \"Rk             Player  Age   G  GS    MP   FG   FGA    FG%   3P  ...   \n",
      "0   \"Rk             Player  Age   G  GS    MP   FG   FGA    FG%   3P  ...  \\\n",
      "1    \"1    Cade Cunningham   21  12  12  33.3  7.8  18.7   .415  1.4  ...   \n",
      "2    \"2   Bojan Bogdanovi?   33  59  59  32.1  7.3  14.9   .488  2.5  ...   \n",
      "3    \"3         Jaden Ivey   20  74  73  31.1  5.5  13.3   .416  1.6  ...   \n",
      "4    \"4         Saddiq Bey   23  52  30  28.8  4.7  11.7   .404  1.9  ...   \n",
      "5    \"5     Isaiah Stewart   21  50  47  28.3  3.9   8.8   .442  1.3  ...   \n",
      "6    \"6      Killian Hayes   21  76  56  28.3  4.0  10.7   .377  1.1  ...   \n",
      "7    \"7      James Wiseman   21  24  22  25.2  5.4  10.2   .531  0.1  ...   \n",
      "8    \"8        Jalen Duren   19  67  31  24.9  3.9   5.9   .648  0.0  ...   \n",
      "9    \"9  Marvin Bagley III   23  42  25  23.6  4.8   9.1   .529  0.5  ...   \n",
      "10  \"10      Isaiah Livers   24  52  22  23.1  2.3   5.5   .417  1.4  ...   \n",
      "11  \"11         Alec Burks   31  51   8  22.0  3.9   9.0   .436  1.9  ...   \n",
      "12  \"12     Eugene Omoruyi   25  17   4  21.9  3.4   7.9   .425  1.0  ...   \n",
      "13  \"13        Cory Joseph   31  62   2  19.8  2.4   5.7   .427  1.1  ...   \n",
      "14  \"14       R.J. Hampton   21  21   3  18.5  2.5   5.9   .423  1.1  ...   \n",
      "15  \"15     Hamidou Diallo   24  56   0  17.8  3.8   6.7   .573  0.1  ...   \n",
      "16  \"16    Rodney McGruder   31  32  12  16.4  1.9   4.8   .408  1.3  ...   \n",
      "17  \"17         Kevin Knox   23  42   1  14.1  2.0   4.3   .469  1.0  ...   \n",
      "18  \"18       Jared Rhoden   23  14   0  14.1  1.2   3.1   .386  0.4  ...   \n",
      "19  \"19       Nerlens Noel   28  14   3  10.9  0.9   2.1   .400  0.1  ...   \n",
      "20  \"20      Buddy Boeheim   23  10   0   9.0  0.5   2.7   .185  0.4  ...   \n",
      "21  \"21        Braxton Key   25   3   0   3.0  0.3   0.3  1.000  0.0  ...   \n",
      "22  \"22      Stanley Umude   23   1   0   2.0  0.0   1.0   .000  0.0  ...   \n",
      "\n",
      "0     FT%  ORB  DRB  TRB  AST  STL  BLK  TOV   PF   PTS\"  \n",
      "0     FT%  ORB  DRB  TRB  AST  STL  BLK  TOV   PF   PTS\"  \n",
      "1    .837  1.0  5.2  6.2  6.0  0.8  0.6  3.3  2.8  19.9\"  \n",
      "2    .884  0.6  3.2  3.8  2.6  0.6  0.1  2.3  1.9  21.6\"  \n",
      "3    .747  1.0  2.9  3.9  5.2  0.8  0.2  3.2  3.3  16.3\"  \n",
      "4    .861  1.1  3.5  4.7  1.6  1.0  0.2  1.0  1.7  14.8\"  \n",
      "5    .738  2.3  5.8  8.1  1.4  0.4  0.7  1.4  2.7  11.3\"  \n",
      "6    .821  0.4  2.5  2.9  6.2  1.4  0.4  2.3  2.9  10.3\"  \n",
      "7    .712  2.3  5.8  8.1  0.7  0.2  0.8  1.5  2.9  12.7\"  \n",
      "8    .611  3.4  5.5  8.9  1.1  0.7  0.9  1.4  2.7   9.1\"  \n",
      "9    .750  2.2  4.2  6.4  0.9  0.5  0.7  1.1  1.9  12.0\"  \n",
      "10   .821  0.5  2.2  2.8  0.8  0.5  0.5  0.6  2.0   6.7\"  \n",
      "11   .814  0.4  2.7  3.1  2.2  0.7  0.2  1.1  1.9  12.8\"  \n",
      "12   .723  1.2  2.2  3.5  1.0  0.8  0.2  1.1  2.6   9.7\"  \n",
      "13   .792  0.3  1.4  1.7  3.5  0.5  0.1  0.9  1.4   6.9\"  \n",
      "14   .667  0.4  1.9  2.3  1.0  0.5  0.2  1.0  1.4   7.3\"  \n",
      "15   .588  1.0  2.4  3.5  1.0  0.9  0.3  1.3  2.2   9.3\"  \n",
      "16   .818  0.6  1.7  2.3  0.9  0.5  0.0  0.3  1.2   5.7\"  \n",
      "17   .788  0.5  2.1  2.6  0.4  0.3  0.3  0.8  1.8   5.6\"  \n",
      "18  1.000  0.8  1.9  2.6  0.3  0.3  0.1  0.2  1.6   3.2\"  \n",
      "19   .700  0.5  2.1  2.6  0.5  0.9  0.6  0.6  1.8   2.3\"  \n",
      "20  1.000  0.2  0.4  0.6  0.4  0.2  0.0  0.0  0.6   1.6\"  \n",
      "21  1.000  0.0  0.3  0.3  0.0  0.0  0.0  0.0  0.0   1.3\"  \n",
      "22  1.000  0.0  0.0  0.0  0.0  1.0  1.0  0.0  0.0   2.0\"  \n",
      "\n",
      "[23 rows x 28 columns]\n"
     ]
    }
   ],
   "source": [
    "# Read the file line by line and split using the custom separator\n",
    "data = []\n",
    "with open(file_name, 'r', encoding='ISO-8859-1') as file:\n",
    "    for line in file:\n",
    "        row = re.split(r',\\s*', line.strip())\n",
    "        data.append(row)\n",
    "\n",
    "# Convert the data to a DataFrame\n",
    "PT_TS = pd.DataFrame(data)\n",
    "\n",
    "# If the first row contains headers, set them as column names\n",
    "PT_TS.columns = PT_TS.iloc[0]\n",
    "MIA_TS = PT_TS[1:]\n",
    "\n",
    "print(PT_TS)"
   ]
  },
  {
   "cell_type": "code",
   "execution_count": 6,
   "metadata": {},
   "outputs": [
    {
     "name": "stdout",
     "output_type": "stream",
     "text": [
      "['\"Rk', 'Player', 'Age', 'G', 'GS', 'MP', 'FG', 'FGA', 'FG%', '3P', '3PA', '3P%', '2P', '2PA', '2P%', 'eFG%', 'FT', 'FTA', 'FT%', 'ORB', 'DRB', 'TRB', 'AST', 'STL', 'BLK', 'TOV', 'PF', 'PTS\"']\n"
     ]
    }
   ],
   "source": [
    "# List all the different columns\n",
    "columns_list1 = PT_TS.columns.tolist()\n",
    "\n",
    "# Print the list of columns\n",
    "print(columns_list1)"
   ]
  },
  {
   "cell_type": "code",
   "execution_count": 7,
   "metadata": {},
   "outputs": [
    {
     "name": "stdout",
     "output_type": "stream",
     "text": [
      "0              Player  Age    FG%   3P%    FT%  TRB  AST  STL  BLK   PTS\"\n",
      "0              Player  Age    FG%   3P%    FT%  TRB  AST  STL  BLK   PTS\"\n",
      "1     Cade Cunningham   21   .415  .279   .837  6.2  6.0  0.8  0.6  19.9\"\n",
      "2    Bojan Bogdanovi?   33   .488  .411   .884  3.8  2.6  0.6  0.1  21.6\"\n",
      "3          Jaden Ivey   20   .416  .343   .747  3.9  5.2  0.8  0.2  16.3\"\n",
      "4          Saddiq Bey   23   .404  .345   .861  4.7  1.6  1.0  0.2  14.8\"\n",
      "5      Isaiah Stewart   21   .442  .327   .738  8.1  1.4  0.4  0.7  11.3\"\n",
      "6       Killian Hayes   21   .377  .280   .821  2.9  6.2  1.4  0.4  10.3\"\n",
      "7       James Wiseman   21   .531  .167   .712  8.1  0.7  0.2  0.8  12.7\"\n",
      "8         Jalen Duren   19   .648  .000   .611  8.9  1.1  0.7  0.9   9.1\"\n",
      "9   Marvin Bagley III   23   .529  .288   .750  6.4  0.9  0.5  0.7  12.0\"\n",
      "10      Isaiah Livers   24   .417  .365   .821  2.8  0.8  0.5  0.5   6.7\"\n",
      "11         Alec Burks   31   .436  .414   .814  3.1  2.2  0.7  0.2  12.8\"\n",
      "12     Eugene Omoruyi   25   .425  .293   .723  3.5  1.0  0.8  0.2   9.7\"\n",
      "13        Cory Joseph   31   .427  .389   .792  1.7  3.5  0.5  0.1   6.9\"\n",
      "14       R.J. Hampton   21   .423  .365   .667  2.3  1.0  0.5  0.2   7.3\"\n",
      "15     Hamidou Diallo   24   .573  .238   .588  3.5  1.0  0.9  0.3   9.3\"\n",
      "16    Rodney McGruder   31   .408  .423   .818  2.3  0.9  0.5  0.0   5.7\"\n",
      "17         Kevin Knox   23   .469  .371   .788  2.6  0.4  0.3  0.3   5.6\"\n",
      "18       Jared Rhoden   23   .386  .250  1.000  2.6  0.3  0.3  0.1   3.2\"\n",
      "19       Nerlens Noel   28   .400  .500   .700  2.6  0.5  0.9  0.6   2.3\"\n",
      "20      Buddy Boeheim   23   .185  .160  1.000  0.6  0.4  0.2  0.0   1.6\"\n",
      "21        Braxton Key   25  1.000        1.000  0.3  0.0  0.0  0.0   1.3\"\n",
      "22      Stanley Umude   23   .000  .000  1.000  0.0  0.0  1.0  1.0   2.0\"\n"
     ]
    }
   ],
   "source": [
    "columns_to_drop = ['\"Rk', 'G', 'GS', 'MP', 'FG', 'FGA', '3P', '3PA', '2P', '2PA', '2P%', 'eFG%', 'FT', 'FTA', 'ORB', 'DRB', 'TOV', 'PF']\n",
    "\n",
    "PT_TS.drop(columns=columns_to_drop, inplace=True)\n",
    "\n",
    "print(PT_TS)"
   ]
  },
  {
   "cell_type": "code",
   "execution_count": 8,
   "metadata": {},
   "outputs": [
    {
     "name": "stdout",
     "output_type": "stream",
     "text": [
      "0              Player  Age    FG%   3P%    FT%  TRB  AST  STL  BLK   PTS\"   \n",
      "0              Player  Age    FG%   3P%    FT%  TRB  AST  STL  BLK   PTS\"  \\\n",
      "1     Cade Cunningham   21   .415  .279   .837  6.2  6.0  0.8  0.6  19.9\"   \n",
      "2    Bojan Bogdanovi?   33   .488  .411   .884  3.8  2.6  0.6  0.1  21.6\"   \n",
      "3          Jaden Ivey   20   .416  .343   .747  3.9  5.2  0.8  0.2  16.3\"   \n",
      "4          Saddiq Bey   23   .404  .345   .861  4.7  1.6  1.0  0.2  14.8\"   \n",
      "5      Isaiah Stewart   21   .442  .327   .738  8.1  1.4  0.4  0.7  11.3\"   \n",
      "6       Killian Hayes   21   .377  .280   .821  2.9  6.2  1.4  0.4  10.3\"   \n",
      "7       James Wiseman   21   .531  .167   .712  8.1  0.7  0.2  0.8  12.7\"   \n",
      "8         Jalen Duren   19   .648  .000   .611  8.9  1.1  0.7  0.9   9.1\"   \n",
      "9   Marvin Bagley III   23   .529  .288   .750  6.4  0.9  0.5  0.7  12.0\"   \n",
      "10      Isaiah Livers   24   .417  .365   .821  2.8  0.8  0.5  0.5   6.7\"   \n",
      "11         Alec Burks   31   .436  .414   .814  3.1  2.2  0.7  0.2  12.8\"   \n",
      "12     Eugene Omoruyi   25   .425  .293   .723  3.5  1.0  0.8  0.2   9.7\"   \n",
      "13        Cory Joseph   31   .427  .389   .792  1.7  3.5  0.5  0.1   6.9\"   \n",
      "14       R.J. Hampton   21   .423  .365   .667  2.3  1.0  0.5  0.2   7.3\"   \n",
      "15     Hamidou Diallo   24   .573  .238   .588  3.5  1.0  0.9  0.3   9.3\"   \n",
      "16    Rodney McGruder   31   .408  .423   .818  2.3  0.9  0.5  0.0   5.7\"   \n",
      "17         Kevin Knox   23   .469  .371   .788  2.6  0.4  0.3  0.3   5.6\"   \n",
      "18       Jared Rhoden   23   .386  .250  1.000  2.6  0.3  0.3  0.1   3.2\"   \n",
      "19       Nerlens Noel   28   .400  .500   .700  2.6  0.5  0.9  0.6   2.3\"   \n",
      "20      Buddy Boeheim   23   .185  .160  1.000  0.6  0.4  0.2  0.0   1.6\"   \n",
      "21        Braxton Key   25  1.000        1.000  0.3  0.0  0.0  0.0   1.3\"   \n",
      "22      Stanley Umude   23   .000  .000  1.000  0.0  0.0  1.0  1.0   2.0\"   \n",
      "\n",
      "0    PTS  \n",
      "0    PTS  \n",
      "1   19.9  \n",
      "2   21.6  \n",
      "3   16.3  \n",
      "4   14.8  \n",
      "5   11.3  \n",
      "6   10.3  \n",
      "7   12.7  \n",
      "8    9.1  \n",
      "9   12.0  \n",
      "10   6.7  \n",
      "11  12.8  \n",
      "12   9.7  \n",
      "13   6.9  \n",
      "14   7.3  \n",
      "15   9.3  \n",
      "16   5.7  \n",
      "17   5.6  \n",
      "18   3.2  \n",
      "19   2.3  \n",
      "20   1.6  \n",
      "21   1.3  \n",
      "22   2.0  \n"
     ]
    }
   ],
   "source": [
    "PT_TS['PTS'] = PT_TS['PTS\"'].str.replace('\"', '')\n",
    "print(PT_TS)"
   ]
  },
  {
   "cell_type": "code",
   "execution_count": 9,
   "metadata": {},
   "outputs": [],
   "source": [
    "PT_TS.to_csv('Detroit Pistons Player Stats.csv', index=False)"
   ]
  }
 ],
 "metadata": {
  "kernelspec": {
   "display_name": "Python 3",
   "language": "python",
   "name": "python3"
  },
  "language_info": {
   "codemirror_mode": {
    "name": "ipython",
    "version": 3
   },
   "file_extension": ".py",
   "mimetype": "text/x-python",
   "name": "python",
   "nbconvert_exporter": "python",
   "pygments_lexer": "ipython3",
   "version": "3.11.3"
  },
  "orig_nbformat": 4
 },
 "nbformat": 4,
 "nbformat_minor": 2
}
