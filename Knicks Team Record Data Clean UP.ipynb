{
 "cells": [
  {
   "cell_type": "code",
   "execution_count": 1,
   "metadata": {},
   "outputs": [],
   "source": [
    "import os\n",
    "import pandas as pd\n",
    "import re"
   ]
  },
  {
   "cell_type": "code",
   "execution_count": 2,
   "metadata": {},
   "outputs": [
    {
     "name": "stdout",
     "output_type": "stream",
     "text": [
      "c:\\Users\\Dreiv\\OneDrive\\Desktop\\Compton Data\n"
     ]
    }
   ],
   "source": [
    "print(os.getcwd())"
   ]
  },
  {
   "cell_type": "code",
   "execution_count": 3,
   "metadata": {},
   "outputs": [
    {
     "name": "stdout",
     "output_type": "stream",
     "text": [
      "['Knicks Player Data Clean Up.ipynb', 'Knicks Player Stats Cleaned.csv', 'Knicks Player Stats.csv', 'Knicks Team Record Data Clean UP.ipynb', 'Knicks Team Record.csv']\n"
     ]
    }
   ],
   "source": [
    "current_dir = os.getcwd()\n",
    "\n",
    "files_in_dir = os.listdir(current_dir)\n",
    "\n",
    "print(files_in_dir)"
   ]
  },
  {
   "cell_type": "code",
   "execution_count": 5,
   "metadata": {},
   "outputs": [
    {
     "name": "stdout",
     "output_type": "stream",
     "text": [
      "   Season,Lg,Team,W,L,W/L%,Finish,SRS,,Pace,Rel Pace,ORtg,Rel ORtg,DRtg,Rel DRtg,,Playoffs,Coaches,Top WS\n",
      "0   2023-24,NBA,New York Knicks,0,0,,,,,,,,,,,,,T....                                                    \n",
      "1   2022-23,NBA,New York Knicks*,47,35,.573,3rd of...                                                    \n",
      "2   2021-22,NBA,New York Knicks,37,45,.451,5th of ...                                                    \n",
      "3   2020-21,NBA,New York Knicks*,41,31,.569,3rd of...                                                    \n",
      "4   2019-20,NBA,New York Knicks,21,45,.318,5th of ...                                                    \n",
      "5   2018-19,NBA,New York Knicks,17,65,.207,5th of ...                                                    \n",
      "6   2017-18,NBA,New York Knicks,29,53,.354,4th of ...                                                    \n",
      "7   2016-17,NBA,New York Knicks,31,51,.378,3rd of ...                                                    \n",
      "8   2015-16,NBA,New York Knicks,32,50,.390,3rd of ...                                                    \n",
      "9   2014-15,NBA,New York Knicks,17,65,.207,5th of ...                                                    \n",
      "10  2013-14,NBA,New York Knicks,37,45,.451,3rd of ...                                                    \n",
      "11  2012-13,NBA,New York Knicks*,54,28,.659,1st of...                                                    \n",
      "12  2011-12,NBA,New York Knicks*,36,30,.545,2nd of...                                                    \n",
      "13  2010-11,NBA,New York Knicks*,42,40,.512,2nd of...                                                    \n",
      "14  2009-10,NBA,New York Knicks,29,53,.354,3rd of ...                                                    \n",
      "15  2008-09,NBA,New York Knicks,32,50,.390,5th of ...                                                    \n",
      "16  2007-08,NBA,New York Knicks,23,59,.280,5th of ...                                                    \n",
      "17  2006-07,NBA,New York Knicks,33,49,.402,4th of ...                                                    \n",
      "18  2005-06,NBA,New York Knicks,23,59,.280,5th of ...                                                    \n",
      "19  2004-05,NBA,New York Knicks,33,49,.402,5th of ...                                                    \n",
      "20  2003-04,NBA,New York Knicks*,39,43,.476,3rd of...                                                    \n",
      "21  2002-03,NBA,New York Knicks,37,45,.451,6th of ...                                                    \n",
      "22  2001-02,NBA,New York Knicks,30,52,.366,7th of ...                                                    \n",
      "23  2000-01,NBA,New York Knicks*,48,34,.585,3rd of...                                                    \n",
      "24  1999-00,NBA,New York Knicks*,50,32,.610,2nd of...                                                    \n",
      "25  1998-99,NBA,New York Knicks*,27,23,.540,4th of...                                                    \n",
      "26  1997-98,NBA,New York Knicks*,43,39,.524,2nd of...                                                    \n",
      "27  1996-97,NBA,New York Knicks*,57,25,.695,2nd of...                                                    \n",
      "28  1995-96,NBA,New York Knicks*,47,35,.573,2nd of...                                                    \n",
      "29  1994-95,NBA,New York Knicks*,55,27,.671,2nd of...                                                    \n"
     ]
    }
   ],
   "source": [
    "file_name = 'Knicks Team Record.csv'\n",
    "NYK_TR = pd.read_csv(file_name, encoding='ISO-8859-1')\n",
    "print(NYK_TR)"
   ]
  },
  {
   "cell_type": "code",
   "execution_count": 7,
   "metadata": {},
   "outputs": [
    {
     "name": "stdout",
     "output_type": "stream",
     "text": [
      "0    \"Season   Lg              Team   W   L  W/L%    Finish    SRS    Pace   \n",
      "0    \"Season   Lg              Team   W   L  W/L%    Finish    SRS    Pace  \\\n",
      "1   \"2023-24  NBA   New York Knicks   0   0                                  \n",
      "2   \"2022-23  NBA  New York Knicks*  47  35  .573  3rd of 5   2.99    97.1   \n",
      "3   \"2021-22  NBA   New York Knicks  37  45  .451  5th of 5  -0.01    95.9   \n",
      "4   \"2020-21  NBA  New York Knicks*  41  31  .569  3rd of 5   2.13    95.9   \n",
      "5   \"2019-20  NBA   New York Knicks  21  45  .318  5th of 5  -6.72    98.6   \n",
      "6   \"2018-19  NBA   New York Knicks  17  65  .207  5th of 5  -8.93    99.6   \n",
      "7   \"2017-18  NBA   New York Knicks  29  53  .354  4th of 5  -3.53    96.8   \n",
      "8   \"2016-17  NBA   New York Knicks  31  51  .378  3rd of 5  -3.87    96.0   \n",
      "9   \"2015-16  NBA   New York Knicks  32  50  .390  3rd of 5  -2.74    93.4   \n",
      "10  \"2014-15  NBA   New York Knicks  17  65  .207  5th of 5  -9.50    91.2   \n",
      "11  \"2013-14  NBA   New York Knicks  37  45  .451  3rd of 5  -1.40    90.3   \n",
      "12  \"2012-13  NBA  New York Knicks*  54  28  .659  1st of 5   3.73    89.8   \n",
      "13  \"2011-12  NBA  New York Knicks*  36  30  .545  2nd of 5   2.39    93.2   \n",
      "14  \"2010-11  NBA  New York Knicks*  42  40  .512  2nd of 5   0.48    95.6   \n",
      "15  \"2009-10  NBA   New York Knicks  29  53  .354  3rd of 5  -4.01    94.0   \n",
      "16  \"2008-09  NBA   New York Knicks  32  50  .390  5th of 5  -2.33    96.7   \n",
      "17  \"2007-08  NBA   New York Knicks  23  59  .280  5th of 5  -6.55    91.6   \n",
      "18  \"2006-07  NBA   New York Knicks  33  49  .402  4th of 5  -3.06    90.8   \n",
      "19  \"2005-06  NBA   New York Knicks  23  59  .280  5th of 5  -6.30    90.8   \n",
      "20  \"2004-05  NBA   New York Knicks  33  49  .402  5th of 5  -2.72    90.7   \n",
      "21  \"2003-04  NBA  New York Knicks*  39  43  .476  3rd of 7  -1.97    89.5   \n",
      "22  \"2002-03  NBA   New York Knicks  37  45  .451  6th of 7  -1.61    90.7   \n",
      "23  \"2001-02  NBA   New York Knicks  30  52  .366  7th of 7  -4.15    89.7   \n",
      "24  \"2000-01  NBA  New York Knicks*  48  34  .585  3rd of 7   1.98    86.7   \n",
      "25  \"1999-00  NBA  New York Knicks*  50  32  .610  2nd of 7   1.30    89.2   \n",
      "26  \"1998-99  NBA  New York Knicks*  27  23  .540  4th of 7   1.45    86.9   \n",
      "27  \"1997-98  NBA  New York Knicks*  43  39  .524  2nd of 7   2.74    88.2   \n",
      "28  \"1996-97  NBA  New York Knicks*  57  25  .695  2nd of 7   3.31    90.5   \n",
      "29  \"1995-96  NBA  New York Knicks*  47  35  .573  2nd of 7   2.24    91.0   \n",
      "30  \"1994-95  NBA  New York Knicks*  55  27  .671  2nd of 7   2.78    91.2   \n",
      "\n",
      "0   Rel Pace   ORtg  Rel ORtg   DRtg  Rel DRtg                  Playoffs   \n",
      "0   Rel Pace   ORtg  Rel ORtg   DRtg  Rel DRtg                  Playoffs  \\\n",
      "1                                                                          \n",
      "2       -2.0  117.8       3.0  114.8       0.0       Lost E. Conf. Semis   \n",
      "3       -2.3  110.4      -1.6  110.5      -1.5                             \n",
      "4       -3.3  110.6      -1.7  108.2      -4.1    Lost E. Conf. 1st Rnd.   \n",
      "5       -1.7  106.5      -4.1  113.0       2.4                             \n",
      "6       -0.4  104.5      -5.9  113.7       3.3                             \n",
      "7       -0.5  107.1      -1.5  110.7       2.1                             \n",
      "8       -0.4  107.7      -1.1  111.5       2.7                             \n",
      "9       -2.4  104.6      -1.8  107.6       1.2                             \n",
      "10      -2.7   99.9      -5.7  110.0       4.4                             \n",
      "11      -3.6  108.3       1.6  109.1       2.4                             \n",
      "12      -2.2  111.1       5.2  106.3       0.4       Lost E. Conf. Semis   \n",
      "13       1.9  104.4      -0.2  101.0      -3.6    Lost E. Conf. 1st Rnd.   \n",
      "14       3.5  110.9       3.6  110.1       2.8    Lost E. Conf. 1st Rnd.   \n",
      "15       1.3  107.6       0.0  111.6       4.0                             \n",
      "16       5.0  108.1      -0.2  110.8       2.5                             \n",
      "17      -0.8  104.7      -2.8  111.9       4.4                             \n",
      "18      -1.1  105.7      -0.8  108.8       2.3                             \n",
      "19       0.3  104.0      -2.2  111.0       4.8                             \n",
      "20      -0.2  106.2       0.1  108.9       2.8                             \n",
      "21      -0.6  101.7      -1.2  103.3       0.4    Lost E. Conf. 1st Rnd.   \n",
      "22      -0.3  104.7       1.1  106.2       2.6                             \n",
      "23      -1.0  101.5      -3.0  105.9       1.4                             \n",
      "24      -4.6  101.2      -1.8   98.2      -4.8    Lost E. Conf. 1st Rnd.   \n",
      "25      -3.9  102.5      -1.6  100.9      -3.2      Lost E. Conf. Finals   \n",
      "26      -2.0   98.6      -3.6   97.5      -4.7               Lost Finals   \n",
      "27      -2.1  103.0      -2.0  100.3      -4.7       Lost E. Conf. Semis   \n",
      "28       0.4  104.4      -2.3  101.0      -5.7       Lost E. Conf. Semis   \n",
      "29      -0.8  106.0      -1.6  103.5      -4.1       Lost E. Conf. Semis   \n",
      "30      -1.7  107.2      -1.1  103.8      -4.5       Lost E. Conf. Semis   \n",
      "\n",
      "0                                             Coaches               Top WS\"  \n",
      "0                                             Coaches               Top WS\"  \n",
      "1                                  T. Thibodeau (0-0)                     \"  \n",
      "2                                T. Thibodeau (47-35)     J. Brunson (8.7)\"  \n",
      "3                                T. Thibodeau (37-45)    M. Robinson (8.5)\"  \n",
      "4                                T. Thibodeau (41-31)      J. Randle (7.8)\"  \n",
      "5                 D. Fizdale (4-18) M. Miller (17-27)    M. Robinson (6.8)\"  \n",
      "6                                  D. Fizdale (17-65)    M. Robinson (6.1)\"  \n",
      "7                                 J. Hornacek (29-53)     E. Freedom (7.6)\"  \n",
      "8                                 J. Hornacek (31-51)     C. Anthony (4.7)\"  \n",
      "9                  D. Fisher (23-31) K. Rambis (9-19)     C. Anthony (6.4)\"  \n",
      "10                                  D. Fisher (17-65)     C. Anthony (2.9)\"  \n",
      "11                                 M. Woodson (37-45)    C. Anthony (10.7)\"  \n",
      "12                                 M. Woodson (54-28)     C. Anthony (9.5)\"  \n",
      "13              M. D'Antoni (18-24) M. Woodson (18-6)    T. Chandler (9.5)\"  \n",
      "14                                M. D'Antoni (42-40)  A. Stoudemire (8.0)\"  \n",
      "15                                M. D'Antoni (29-53)        D. Lee (10.3)\"  \n",
      "16                                M. D'Antoni (32-50)         D. Lee (9.0)\"  \n",
      "17                                  I. Thomas (23-59)         D. Lee (7.4)\"  \n",
      "18                                  I. Thomas (33-49)         D. Lee (6.9)\"  \n",
      "19                                   L. Brown (23-59)    J. Crawford (4.5)\"  \n",
      "20             L. Wilkens (17-22) H. Williams (16-27)    S. Marbury (11.7)\"  \n",
      "21  D. Chaney (15-24) H. Williams (1-0) L. Wilkens...     S. Marbury (5.5)\"  \n",
      "22                                  D. Chaney (37-45)     A. Houston (7.2)\"  \n",
      "23              J. Van Gundy (10-9) D. Chaney (20-43)      K. Thomas (6.5)\"  \n",
      "24                               J. Van Gundy (48-34)      M. Camby (10.3)\"  \n",
      "25                               J. Van Gundy (50-32)     A. Houston (8.6)\"  \n",
      "26                               J. Van Gundy (27-23)     L. Johnson (4.9)\"  \n",
      "27                               J. Van Gundy (43-39)        C. Ward (7.1)\"  \n",
      "28                               J. Van Gundy (57-25)       P. Ewing (9.8)\"  \n",
      "29             D. Nelson (34-25) J. Van Gundy (13-10)      A. Mason (11.3)\"  \n",
      "30                                   P. Riley (55-27)       P. Ewing (9.6)\"  \n"
     ]
    }
   ],
   "source": [
    "file_name = 'Knicks Team Record.csv'\n",
    "\n",
    "# Read the file line by line and split using the custom separator\n",
    "data = []\n",
    "with open(file_name, 'r', encoding='ISO-8859-1') as file:\n",
    "    for line in file:\n",
    "        row = re.split(r',\\s*', line.strip())\n",
    "        data.append(row)\n",
    "\n",
    "# Convert the data to a DataFrame\n",
    "NYK_TR = pd.DataFrame(data)\n",
    "\n",
    "# If the first row contains headers, set them as column names\n",
    "NYK_TR.columns = NYK_TR.iloc[0]\n",
    "NYK_TS = NYK_TR[1:]\n",
    "\n",
    "print(NYK_TR)"
   ]
  },
  {
   "cell_type": "code",
   "execution_count": 8,
   "metadata": {},
   "outputs": [
    {
     "name": "stdout",
     "output_type": "stream",
     "text": [
      "['\"Season', 'Lg', 'Team', 'W', 'L', 'W/L%', 'Finish', 'SRS', '', 'Pace', 'Rel Pace', 'ORtg', 'Rel ORtg', 'DRtg', 'Rel DRtg', '', 'Playoffs', 'Coaches', 'Top WS\"']\n"
     ]
    }
   ],
   "source": [
    "columns_list = NYK_TR.columns.tolist()\n",
    "print(columns_list)"
   ]
  },
  {
   "cell_type": "code",
   "execution_count": 12,
   "metadata": {},
   "outputs": [
    {
     "name": "stdout",
     "output_type": "stream",
     "text": [
      "0    \"Season   Lg              Team   W   L  W/L%\n",
      "0    \"Season   Lg              Team   W   L  W/L%\n",
      "1   \"2023-24  NBA   New York Knicks   0   0      \n",
      "2   \"2022-23  NBA  New York Knicks*  47  35  .573\n",
      "3   \"2021-22  NBA   New York Knicks  37  45  .451\n",
      "4   \"2020-21  NBA  New York Knicks*  41  31  .569\n",
      "5   \"2019-20  NBA   New York Knicks  21  45  .318\n",
      "6   \"2018-19  NBA   New York Knicks  17  65  .207\n",
      "7   \"2017-18  NBA   New York Knicks  29  53  .354\n",
      "8   \"2016-17  NBA   New York Knicks  31  51  .378\n",
      "9   \"2015-16  NBA   New York Knicks  32  50  .390\n",
      "10  \"2014-15  NBA   New York Knicks  17  65  .207\n",
      "11  \"2013-14  NBA   New York Knicks  37  45  .451\n",
      "12  \"2012-13  NBA  New York Knicks*  54  28  .659\n",
      "13  \"2011-12  NBA  New York Knicks*  36  30  .545\n",
      "14  \"2010-11  NBA  New York Knicks*  42  40  .512\n",
      "15  \"2009-10  NBA   New York Knicks  29  53  .354\n",
      "16  \"2008-09  NBA   New York Knicks  32  50  .390\n",
      "17  \"2007-08  NBA   New York Knicks  23  59  .280\n",
      "18  \"2006-07  NBA   New York Knicks  33  49  .402\n",
      "19  \"2005-06  NBA   New York Knicks  23  59  .280\n",
      "20  \"2004-05  NBA   New York Knicks  33  49  .402\n",
      "21  \"2003-04  NBA  New York Knicks*  39  43  .476\n",
      "22  \"2002-03  NBA   New York Knicks  37  45  .451\n",
      "23  \"2001-02  NBA   New York Knicks  30  52  .366\n",
      "24  \"2000-01  NBA  New York Knicks*  48  34  .585\n",
      "25  \"1999-00  NBA  New York Knicks*  50  32  .610\n",
      "26  \"1998-99  NBA  New York Knicks*  27  23  .540\n",
      "27  \"1997-98  NBA  New York Knicks*  43  39  .524\n",
      "28  \"1996-97  NBA  New York Knicks*  57  25  .695\n",
      "29  \"1995-96  NBA  New York Knicks*  47  35  .573\n",
      "30  \"1994-95  NBA  New York Knicks*  55  27  .671\n"
     ]
    }
   ],
   "source": [
    "columns_to_drop = ['Finish', 'SRS', '', 'Pace', 'Rel Pace', 'ORtg', 'Rel ORtg', 'DRtg', 'Rel DRtg', '', 'Playoffs', 'Coaches', 'Top WS\"']\n",
    "\n",
    "NYK_TR.drop(columns_to_drop, inplace=True, axis=1)\n",
    "\n",
    "print(NYK_TR)"
   ]
  },
  {
   "cell_type": "code",
   "execution_count": 13,
   "metadata": {},
   "outputs": [],
   "source": [
    "NYK_TR['Season'] = NYK_TR['\"Season'].str.replace('\"','')"
   ]
  },
  {
   "cell_type": "code",
   "execution_count": 14,
   "metadata": {},
   "outputs": [
    {
     "name": "stdout",
     "output_type": "stream",
     "text": [
      "0    \"Season   Lg              Team   W   L  W/L%   Season\n",
      "0    \"Season   Lg              Team   W   L  W/L%   Season\n",
      "1   \"2023-24  NBA   New York Knicks   0   0        2023-24\n",
      "2   \"2022-23  NBA  New York Knicks*  47  35  .573  2022-23\n",
      "3   \"2021-22  NBA   New York Knicks  37  45  .451  2021-22\n",
      "4   \"2020-21  NBA  New York Knicks*  41  31  .569  2020-21\n",
      "5   \"2019-20  NBA   New York Knicks  21  45  .318  2019-20\n",
      "6   \"2018-19  NBA   New York Knicks  17  65  .207  2018-19\n",
      "7   \"2017-18  NBA   New York Knicks  29  53  .354  2017-18\n",
      "8   \"2016-17  NBA   New York Knicks  31  51  .378  2016-17\n",
      "9   \"2015-16  NBA   New York Knicks  32  50  .390  2015-16\n",
      "10  \"2014-15  NBA   New York Knicks  17  65  .207  2014-15\n",
      "11  \"2013-14  NBA   New York Knicks  37  45  .451  2013-14\n",
      "12  \"2012-13  NBA  New York Knicks*  54  28  .659  2012-13\n",
      "13  \"2011-12  NBA  New York Knicks*  36  30  .545  2011-12\n",
      "14  \"2010-11  NBA  New York Knicks*  42  40  .512  2010-11\n",
      "15  \"2009-10  NBA   New York Knicks  29  53  .354  2009-10\n",
      "16  \"2008-09  NBA   New York Knicks  32  50  .390  2008-09\n",
      "17  \"2007-08  NBA   New York Knicks  23  59  .280  2007-08\n",
      "18  \"2006-07  NBA   New York Knicks  33  49  .402  2006-07\n",
      "19  \"2005-06  NBA   New York Knicks  23  59  .280  2005-06\n",
      "20  \"2004-05  NBA   New York Knicks  33  49  .402  2004-05\n",
      "21  \"2003-04  NBA  New York Knicks*  39  43  .476  2003-04\n",
      "22  \"2002-03  NBA   New York Knicks  37  45  .451  2002-03\n",
      "23  \"2001-02  NBA   New York Knicks  30  52  .366  2001-02\n",
      "24  \"2000-01  NBA  New York Knicks*  48  34  .585  2000-01\n",
      "25  \"1999-00  NBA  New York Knicks*  50  32  .610  1999-00\n",
      "26  \"1998-99  NBA  New York Knicks*  27  23  .540  1998-99\n",
      "27  \"1997-98  NBA  New York Knicks*  43  39  .524  1997-98\n",
      "28  \"1996-97  NBA  New York Knicks*  57  25  .695  1996-97\n",
      "29  \"1995-96  NBA  New York Knicks*  47  35  .573  1995-96\n",
      "30  \"1994-95  NBA  New York Knicks*  55  27  .671  1994-95\n"
     ]
    }
   ],
   "source": [
    "print(NYK_TR)"
   ]
  },
  {
   "cell_type": "code",
   "execution_count": null,
   "metadata": {},
   "outputs": [],
   "source": [
    "NYK_TR.to_csv('Knicks Team Record Clean.csv', index=False)"
   ]
  }
 ],
 "metadata": {
  "kernelspec": {
   "display_name": "Python 3",
   "language": "python",
   "name": "python3"
  },
  "language_info": {
   "codemirror_mode": {
    "name": "ipython",
    "version": 3
   },
   "file_extension": ".py",
   "mimetype": "text/x-python",
   "name": "python",
   "nbconvert_exporter": "python",
   "pygments_lexer": "ipython3",
   "version": "3.11.3"
  },
  "orig_nbformat": 4
 },
 "nbformat": 4,
 "nbformat_minor": 2
}
