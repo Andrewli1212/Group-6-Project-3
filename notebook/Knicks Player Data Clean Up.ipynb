{
 "cells": [
  {
   "cell_type": "code",
   "execution_count": 1,
   "metadata": {},
   "outputs": [],
   "source": [
    "import os\n",
    "import pandas as pd\n",
    "import re"
   ]
  },
  {
   "cell_type": "code",
   "execution_count": 2,
   "metadata": {},
   "outputs": [
    {
     "name": "stdout",
     "output_type": "stream",
     "text": [
      "c:\\Users\\Dreiv\\OneDrive\\Desktop\\Compton Data\n"
     ]
    }
   ],
   "source": [
    "print(os.getcwd())"
   ]
  },
  {
   "cell_type": "code",
   "execution_count": 8,
   "metadata": {},
   "outputs": [
    {
     "name": "stdout",
     "output_type": "stream",
     "text": [
      "['Knicks Player Data Clean Up.ipynb', 'Knicks Player Stats.csv', 'Knicks Team Record.csv']\n"
     ]
    }
   ],
   "source": [
    "current_dir = os.getcwd()\n",
    "\n",
    "files_in_dir = os.listdir(current_dir)\n",
    "\n",
    "print(files_in_dir)"
   ]
  },
  {
   "cell_type": "code",
   "execution_count": 11,
   "metadata": {},
   "outputs": [
    {
     "name": "stdout",
     "output_type": "stream",
     "text": [
      "   Rk,Player,Age,G,GS,MP,FG,FGA,FG%,3P,3PA,3P%,2P,2PA,2P%,eFG%,FT,FTA,FT%,ORB,DRB,TRB,AST,STL,BLK,TOV,PF,PTS\n",
      "0   1,Julius Randle,28,77,77,35.5,8.5,18.6,.459,2....                                                       \n",
      "1   2,Jalen Brunson,26,68,68,35.0,8.6,17.6,.491,2....                                                       \n",
      "2   3,RJ Barrett,22,73,73,33.9,7.0,16.1,.434,1.7,5...                                                       \n",
      "3   4,Josh Hart,27,25,1,30.0,3.7,6.3,.586,1.1,2.1,...                                                       \n",
      "4   5,Quentin Grimes,22,71,66,29.9,4.0,8.5,.468,2....                                                       \n",
      "5   6,Immanuel Quickley,23,81,21,28.9,5.2,11.6,.44...                                                       \n",
      "6   7,Mitchell Robinson,24,59,58,27.0,3.2,4.7,.671...                                                       \n",
      "7   8,Cam Reddish,23,20,8,21.9,3.1,6.8,.449,0.9,2....                                                       \n",
      "8   9,Isaiah Hartenstein,24,82,8,19.8,2.1,4.0,.535...                                                       \n",
      "9   10,Evan Fournier,30,27,7,17.0,2.1,6.1,.337,1.3...                                                       \n",
      "10  11,Obi Toppin,24,67,5,15.7,2.8,6.3,.446,1.3,3....                                                       \n",
      "11  12,Jericho Sims,24,52,16,15.6,1.6,2.1,.776,0.0...                                                       \n",
      "12  13,Derrick Rose,34,27,0,12.5,2.3,5.9,.384,0.7,...                                                       \n",
      "13  14,Miles McBride,22,64,2,11.9,1.2,3.4,.358,0.6...                                                       \n",
      "14  15,Svi Mykhailiuk,25,13,0,3.1,0.5,0.9,.500,0.5...                                                       \n",
      "15  16,Trevor Keels,19,3,0,2.7,0.3,1.3,.250,0.3,1....                                                       \n",
      "16  17,Ryan Arcidiacono,28,11,0,2.4,0.1,0.5,.200,0...                                                       \n"
     ]
    }
   ],
   "source": [
    "file_name = 'Knicks Player Stats.csv'\n",
    "NYK_TS = pd.read_csv(file_name, encoding='ISO-8859-1')\n",
    "print(NYK_TS)"
   ]
  },
  {
   "cell_type": "code",
   "execution_count": 12,
   "metadata": {},
   "outputs": [
    {
     "name": "stdout",
     "output_type": "stream",
     "text": [
      "0   \"Rk              Player Age   G  GS    MP   FG   FGA   FG%   3P  ...   \n",
      "1    \"1       Julius Randle  28  77  77  35.5  8.5  18.6  .459  2.8  ...  \\\n",
      "2    \"2       Jalen Brunson  26  68  68  35.0  8.6  17.6  .491  2.0  ...   \n",
      "3    \"3          RJ Barrett  22  73  73  33.9  7.0  16.1  .434  1.7  ...   \n",
      "4    \"4           Josh Hart  27  25   1  30.0  3.7   6.3  .586  1.1  ...   \n",
      "5    \"5      Quentin Grimes  22  71  66  29.9  4.0   8.5  .468  2.2  ...   \n",
      "6    \"6   Immanuel Quickley  23  81  21  28.9  5.2  11.6  .448  2.1  ...   \n",
      "7    \"7   Mitchell Robinson  24  59  58  27.0  3.2   4.7  .671  0.0  ...   \n",
      "8    \"8         Cam Reddish  23  20   8  21.9  3.1   6.8  .449  0.9  ...   \n",
      "9    \"9  Isaiah Hartenstein  24  82   8  19.8  2.1   4.0  .535  0.1  ...   \n",
      "10  \"10       Evan Fournier  30  27   7  17.0  2.1   6.1  .337  1.3  ...   \n",
      "11  \"11          Obi Toppin  24  67   5  15.7  2.8   6.3  .446  1.3  ...   \n",
      "12  \"12        Jericho Sims  24  52  16  15.6  1.6   2.1  .776  0.0  ...   \n",
      "13  \"13        Derrick Rose  34  27   0  12.5  2.3   5.9  .384  0.7  ...   \n",
      "14  \"14       Miles McBride  22  64   2  11.9  1.2   3.4  .358  0.6  ...   \n",
      "15  \"15      Svi Mykhailiuk  25  13   0   3.1  0.5   0.9  .500  0.5  ...   \n",
      "16  \"16        Trevor Keels  19   3   0   2.7  0.3   1.3  .250  0.3  ...   \n",
      "17  \"17    Ryan Arcidiacono  28  11   0   2.4  0.1   0.5  .200  0.1  ...   \n",
      "\n",
      "0    FT%  ORB  DRB   TRB  AST  STL  BLK  TOV   PF   PTS\"  \n",
      "1   .757  1.8  8.1  10.0  4.1  0.6  0.3  2.8  3.0  25.1\"  \n",
      "2   .829  0.6  3.0   3.5  6.2  0.9  0.2  2.1  2.2  24.0\"  \n",
      "3   .740  0.8  4.2   5.0  2.8  0.4  0.2  2.2  2.5  19.6\"  \n",
      "4   .789  1.9  5.2   7.0  3.6  1.4  0.5  1.5  2.5  10.2\"  \n",
      "5   .796  0.7  2.5   3.2  2.1  0.7  0.4  1.0  2.5  11.3\"  \n",
      "6   .819  0.7  3.4   4.2  3.4  1.0  0.2  1.2  2.0  14.9\"  \n",
      "7   .484  4.5  4.9   9.4  0.9  0.9  1.8  0.7  2.7   7.4\"  \n",
      "8   .879  0.4  1.2   1.6  1.0  0.8  0.4  0.8  1.6   8.4\"  \n",
      "9   .676  2.5  4.0   6.5  1.2  0.6  0.8  0.8  2.6   5.0\"  \n",
      "10  .857  0.1  1.7   1.8  1.3  0.6  0.1  0.8  1.7   6.1\"  \n",
      "11  .809  0.4  2.4   2.8  1.0  0.3  0.2  0.6  1.0   7.4\"  \n",
      "12  .750  1.9  2.8   4.7  0.5  0.3  0.5  0.5  1.8   3.4\"  \n",
      "13  .917  0.3  1.2   1.5  1.7  0.3  0.2  0.8  0.7   5.6\"  \n",
      "14  .667  0.2  0.6   0.8  1.1  0.6  0.1  0.4  0.9   3.5\"  \n",
      "15  .600  0.0  0.5   0.5  0.1  0.1  0.0  0.2  0.1   1.6\"  \n",
      "16        0.0  0.7   0.7  0.0  0.0  0.0  0.0  0.0   1.0\"  \n",
      "17        0.0  0.4   0.4  0.2  0.2  0.0  0.1  0.3   0.3\"  \n",
      "\n",
      "[17 rows x 28 columns]\n"
     ]
    }
   ],
   "source": [
    "file_name = 'Knicks Player Stats.csv'\n",
    "\n",
    "# Read the file line by line and split using the custom separator\n",
    "data = []\n",
    "with open(file_name, 'r', encoding='ISO-8859-1') as file:\n",
    "    for line in file:\n",
    "        row = re.split(r',\\s*', line.strip())\n",
    "        data.append(row)\n",
    "\n",
    "# Convert the data to a DataFrame\n",
    "NYK_TS = pd.DataFrame(data)\n",
    "\n",
    "# If the first row contains headers, set them as column names\n",
    "NYK_TS.columns = NYK_TS.iloc[0]\n",
    "NYK_TS = NYK_TS[1:]\n",
    "\n",
    "print(NYK_TS)"
   ]
  },
  {
   "cell_type": "code",
   "execution_count": 13,
   "metadata": {},
   "outputs": [
    {
     "name": "stdout",
     "output_type": "stream",
     "text": [
      "['\"Rk', 'Player', 'Age', 'G', 'GS', 'MP', 'FG', 'FGA', 'FG%', '3P', '3PA', '3P%', '2P', '2PA', '2P%', 'eFG%', 'FT', 'FTA', 'FT%', 'ORB', 'DRB', 'TRB', 'AST', 'STL', 'BLK', 'TOV', 'PF', 'PTS\"']\n"
     ]
    }
   ],
   "source": [
    "columns_list = NYK_TS.columns.tolist()\n",
    "print(columns_list)"
   ]
  },
  {
   "cell_type": "code",
   "execution_count": 14,
   "metadata": {},
   "outputs": [
    {
     "name": "stdout",
     "output_type": "stream",
     "text": [
      "0               Player Age   FG%   3P%   FT%   TRB  AST  STL  BLK   PTS\"\n",
      "1        Julius Randle  28  .459  .343  .757  10.0  4.1  0.6  0.3  25.1\"\n",
      "2        Jalen Brunson  26  .491  .416  .829   3.5  6.2  0.9  0.2  24.0\"\n",
      "3           RJ Barrett  22  .434  .310  .740   5.0  2.8  0.4  0.2  19.6\"\n",
      "4            Josh Hart  27  .586  .519  .789   7.0  3.6  1.4  0.5  10.2\"\n",
      "5       Quentin Grimes  22  .468  .386  .796   3.2  2.1  0.7  0.4  11.3\"\n",
      "6    Immanuel Quickley  23  .448  .370  .819   4.2  3.4  1.0  0.2  14.9\"\n",
      "7    Mitchell Robinson  24  .671        .484   9.4  0.9  0.9  1.8   7.4\"\n",
      "8          Cam Reddish  23  .449  .304  .879   1.6  1.0  0.8  0.4   8.4\"\n",
      "9   Isaiah Hartenstein  24  .535  .216  .676   6.5  1.2  0.6  0.8   5.0\"\n",
      "10       Evan Fournier  30  .337  .307  .857   1.8  1.3  0.6  0.1   6.1\"\n",
      "11          Obi Toppin  24  .446  .344  .809   2.8  1.0  0.3  0.2   7.4\"\n",
      "12        Jericho Sims  24  .776  .000  .750   4.7  0.5  0.3  0.5   3.4\"\n",
      "13        Derrick Rose  34  .384  .302  .917   1.5  1.7  0.3  0.2   5.6\"\n",
      "14       Miles McBride  22  .358  .299  .667   0.8  1.1  0.6  0.1   3.5\"\n",
      "15      Svi Mykhailiuk  25  .500  .600  .600   0.5  0.1  0.1  0.0   1.6\"\n",
      "16        Trevor Keels  19  .250  .250         0.7  0.0  0.0  0.0   1.0\"\n",
      "17    Ryan Arcidiacono  28  .200  .333         0.4  0.2  0.2  0.0   0.3\"\n"
     ]
    }
   ],
   "source": [
    "columns_to_drop = ['\"Rk', 'G', 'GS', 'MP', 'FG', 'FGA', '3P', '3PA', '2P', '2PA', '2P%', 'eFG%', 'FT', 'FTA', 'ORB', 'DRB', 'TOV', 'PF']\n",
    "\n",
    "NYK_TS.drop(columns=columns_to_drop, inplace=True)\n",
    "\n",
    "print(NYK_TS)"
   ]
  },
  {
   "cell_type": "code",
   "execution_count": 15,
   "metadata": {},
   "outputs": [
    {
     "name": "stdout",
     "output_type": "stream",
     "text": [
      "0               Player Age   FG%   3P%   FT%   TRB  AST  STL  BLK   PTS\"   PTS\n",
      "1        Julius Randle  28  .459  .343  .757  10.0  4.1  0.6  0.3  25.1\"  25.1\n",
      "2        Jalen Brunson  26  .491  .416  .829   3.5  6.2  0.9  0.2  24.0\"  24.0\n",
      "3           RJ Barrett  22  .434  .310  .740   5.0  2.8  0.4  0.2  19.6\"  19.6\n",
      "4            Josh Hart  27  .586  .519  .789   7.0  3.6  1.4  0.5  10.2\"  10.2\n",
      "5       Quentin Grimes  22  .468  .386  .796   3.2  2.1  0.7  0.4  11.3\"  11.3\n",
      "6    Immanuel Quickley  23  .448  .370  .819   4.2  3.4  1.0  0.2  14.9\"  14.9\n",
      "7    Mitchell Robinson  24  .671        .484   9.4  0.9  0.9  1.8   7.4\"   7.4\n",
      "8          Cam Reddish  23  .449  .304  .879   1.6  1.0  0.8  0.4   8.4\"   8.4\n",
      "9   Isaiah Hartenstein  24  .535  .216  .676   6.5  1.2  0.6  0.8   5.0\"   5.0\n",
      "10       Evan Fournier  30  .337  .307  .857   1.8  1.3  0.6  0.1   6.1\"   6.1\n",
      "11          Obi Toppin  24  .446  .344  .809   2.8  1.0  0.3  0.2   7.4\"   7.4\n",
      "12        Jericho Sims  24  .776  .000  .750   4.7  0.5  0.3  0.5   3.4\"   3.4\n",
      "13        Derrick Rose  34  .384  .302  .917   1.5  1.7  0.3  0.2   5.6\"   5.6\n",
      "14       Miles McBride  22  .358  .299  .667   0.8  1.1  0.6  0.1   3.5\"   3.5\n",
      "15      Svi Mykhailiuk  25  .500  .600  .600   0.5  0.1  0.1  0.0   1.6\"   1.6\n",
      "16        Trevor Keels  19  .250  .250         0.7  0.0  0.0  0.0   1.0\"   1.0\n",
      "17    Ryan Arcidiacono  28  .200  .333         0.4  0.2  0.2  0.0   0.3\"   0.3\n"
     ]
    }
   ],
   "source": [
    "NYK_TS['PTS'] = NYK_TS['PTS\"'].str.replace('\"','')\n",
    "print(NYK_TS)"
   ]
  },
  {
   "cell_type": "code",
   "execution_count": null,
   "metadata": {},
   "outputs": [],
   "source": [
    "NYK_TS.to_csv('Knicks Player Stats Cleaned.csv', index=False)"
   ]
  }
 ],
 "metadata": {
  "kernelspec": {
   "display_name": "Python 3",
   "language": "python",
   "name": "python3"
  },
  "language_info": {
   "codemirror_mode": {
    "name": "ipython",
    "version": 3
   },
   "file_extension": ".py",
   "mimetype": "text/x-python",
   "name": "python",
   "nbconvert_exporter": "python",
   "pygments_lexer": "ipython3",
   "version": "3.11.3"
  },
  "orig_nbformat": 4
 },
 "nbformat": 4,
 "nbformat_minor": 2
}
