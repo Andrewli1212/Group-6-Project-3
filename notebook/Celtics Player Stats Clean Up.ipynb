{
 "cells": [
  {
   "cell_type": "code",
   "execution_count": 4,
   "metadata": {},
   "outputs": [],
   "source": [
    "import os\n",
    "import pandas as pd\n",
    "import sqlite3"
   ]
  },
  {
   "cell_type": "code",
   "execution_count": 5,
   "metadata": {},
   "outputs": [
    {
     "name": "stdout",
     "output_type": "stream",
     "text": [
      "c:\\Users\\mabey\\OneDrive\\Desktop\\Project 3\n"
     ]
    }
   ],
   "source": [
    "print(os.getcwd())"
   ]
  },
  {
   "cell_type": "code",
   "execution_count": 6,
   "metadata": {},
   "outputs": [],
   "source": [
    "# Get the current working directory\n",
    "current_directory = os.getcwd()\n"
   ]
  },
  {
   "cell_type": "code",
   "execution_count": 7,
   "metadata": {},
   "outputs": [
    {
     "name": "stdout",
     "output_type": "stream",
     "text": [
      "['Celtics Team Stats.csv', 'Data Cleanup.csv', 'datacleanup2.csv']\n"
     ]
    }
   ],
   "source": [
    "# List all files and directories in the current working directory\n",
    "files_in_directory = os.listdir(current_directory)\n",
    "print(files_in_directory)"
   ]
  },
  {
   "cell_type": "code",
   "execution_count": 8,
   "metadata": {},
   "outputs": [
    {
     "name": "stdout",
     "output_type": "stream",
     "text": [
      "   Rk,Player,Age,G,GS,MP,FG,FGA,FG%,3P,3PA,3P%,2P,2PA,2P%,eFG%,FT,FTA,FT%,ORB,DRB,TRB,AST,STL,BLK,TOV,PF,PTS\n",
      "0   1,Jayson Tatum,24,74,74,36.9,9.8,21.1,.466,3.2...                                                       \n",
      "1   2,Jaylen Brown,26,67,67,35.9,10.1,20.6,.491,2....                                                       \n",
      "2   3,Marcus Smart,28,61,61,32.1,4.1,9.9,.415,1.9,...                                                       \n",
      "3   4,Al Horford,36,63,63,30.5,3.6,7.6,.476,2.3,5....                                                       \n",
      "4   5,Derrick White,28,82,70,28.3,4.3,9.2,.462,1.8...                                                       \n",
      "5   6,Malcolm Brogdon,30,67,0,26.0,5.3,10.9,.484,2...                                                       \n",
      "6   7,Grant Williams,24,79,23,25.9,2.7,6.0,.454,1....                                                       \n",
      "7   8,Robert Williams,25,35,20,23.5,3.6,4.9,.747,0...                                                       \n",
      "8   9,Mike Muscala,31,20,4,16.2,2.1,4.5,.472,1.3,3...                                                       \n",
      "9   10,Sam Hauser,25,80,8,16.1,2.3,5.0,.455,1.8,4....                                                       \n",
      "10  11,Blake Griffin,33,41,16,13.9,1.5,3.2,.485,0....                                                       \n",
      "11  12,Payton Pritchard,25,48,3,13.4,2.1,5.1,.412,...                                                       \n",
      "12  13,Luke Kornet,27,69,0,11.7,1.6,2.5,.665,0.0,0...                                                       \n",
      "13  14,Justin Champagnie,21,2,0,11.5,1.0,6.0,.167,...                                                       \n",
      "14  15,Mfiondu Kabengele,25,4,0,9.0,0.5,1.8,.286,0...                                                       \n",
      "15  16,Noah Vonleh,27,23,1,7.4,0.5,1.0,.458,0.0,0....                                                       \n",
      "16  17,JD Davison,20,12,0,5.5,0.7,1.6,.421,0.2,0.6...                                                       \n",
      "17  18,Justin Jackson,27,23,0,4.7,0.3,1.2,.259,0.2...                                                       \n"
     ]
    }
   ],
   "source": [
    "file_name = 'Data Cleanup.csv'\n",
    "PT_TS = pd.read_csv(file_name)\n",
    "print(PT_TS)"
   ]
  },
  {
   "cell_type": "code",
   "execution_count": 9,
   "metadata": {},
   "outputs": [
    {
     "name": "stdout",
     "output_type": "stream",
     "text": [
      "    \"Rk             Player  Age   G  GS    MP    FG   FGA    FG%   3P  ...  \\\n",
      "0    \"1       Jayson Tatum   24  74  74  36.9   9.8  21.1  0.466  3.2  ...   \n",
      "1    \"2       Jaylen Brown   26  67  67  35.9  10.1  20.6  0.491  2.4  ...   \n",
      "2    \"3       Marcus Smart   28  61  61  32.1   4.1   9.9  0.415  1.9  ...   \n",
      "3    \"4         Al Horford   36  63  63  30.5   3.6   7.6  0.476  2.3  ...   \n",
      "4    \"5      Derrick White   28  82  70  28.3   4.3   9.2  0.462  1.8  ...   \n",
      "5    \"6    Malcolm Brogdon   30  67   0  26.0   5.3  10.9  0.484  2.0  ...   \n",
      "6    \"7     Grant Williams   24  79  23  25.9   2.7   6.0  0.454  1.5  ...   \n",
      "7    \"8    Robert Williams   25  35  20  23.5   3.6   4.9  0.747  0.0  ...   \n",
      "8    \"9       Mike Muscala   31  20   4  16.2   2.1   4.5  0.472  1.3  ...   \n",
      "9   \"10         Sam Hauser   25  80   8  16.1   2.3   5.0  0.455  1.8  ...   \n",
      "10  \"11      Blake Griffin   33  41  16  13.9   1.5   3.2  0.485  0.6  ...   \n",
      "11  \"12   Payton Pritchard   25  48   3  13.4   2.1   5.1  0.412  1.2  ...   \n",
      "12  \"13        Luke Kornet   27  69   0  11.7   1.6   2.5  0.665  0.0  ...   \n",
      "13  \"14  Justin Champagnie   21   2   0  11.5   1.0   6.0  0.167  0.5  ...   \n",
      "14  \"15  Mfiondu Kabengele   25   4   0   9.0   0.5   1.8  0.286  0.0  ...   \n",
      "15  \"16        Noah Vonleh   27  23   1   7.4   0.5   1.0  0.458  0.0  ...   \n",
      "16  \"17         JD Davison   20  12   0   5.5   0.7   1.6  0.421  0.2  ...   \n",
      "17  \"18     Justin Jackson   27  23   0   4.7   0.3   1.2  0.259  0.2  ...   \n",
      "\n",
      "      FT%  ORB  DRB  TRB  AST  STL  BLK  TOV   PF   PTS\"  \n",
      "0   0.854  1.1  7.7  8.8  4.6  1.1  0.7  2.9  2.2  30.1\"  \n",
      "1   0.765  1.2  5.7  6.9  3.5  1.1  0.4  2.9  2.6  26.6\"  \n",
      "2   0.746  0.8  2.4  3.1  6.3  1.5  0.4  2.3  2.8  11.5\"  \n",
      "3   0.714  1.2  5.0  6.2  3.0  0.5  1.0  0.6  1.9   9.8\"  \n",
      "4   0.875  0.6  2.9  3.6  3.9  0.7  0.9  1.2  2.2  12.4\"  \n",
      "5   0.870  0.6  3.6  4.2  3.7  0.7  0.3  1.5  1.6  14.9\"  \n",
      "6   0.770  1.1  3.5  4.6  1.7  0.5  0.4  1.0  2.4   8.1\"  \n",
      "7   0.610  3.0  5.4  8.3  1.4  0.6  1.4  1.0  1.9   8.0\"  \n",
      "8   0.692  0.7  2.7  3.4  0.6  0.2  0.3  0.5  1.4   5.9\"  \n",
      "9   0.706  0.4  2.1  2.6  0.9  0.4  0.3  0.4  1.2   6.4\"  \n",
      "10  0.656  1.1  2.6  3.8  1.5  0.3  0.2  0.5  1.8   4.1\"  \n",
      "11  0.750  0.5  1.3  1.8  1.3  0.3  0.0  0.8  0.8   5.6\"  \n",
      "12  0.821  1.2  1.6  2.9  0.8  0.2  0.7  0.4  1.2   3.8\"  \n",
      "13    NaN  1.0  1.0  2.0  1.5  0.5  0.0  0.0  0.5   2.5\"  \n",
      "14  1.000  1.3  1.3  2.5  0.0  0.5  0.0  0.3  0.8   1.5\"  \n",
      "15  1.000  0.8  1.3  2.1  0.3  0.1  0.3  0.5  1.5   1.1\"  \n",
      "16  0.500  0.2  0.6  0.8  0.9  0.2  0.2  0.3  0.4   1.6\"  \n",
      "17  0.500  0.1  0.7  0.7  0.4  0.2  0.2  0.1  0.3   0.9\"  \n",
      "\n",
      "[18 rows x 28 columns]\n",
      "['\"Rk', 'Player', 'Age', 'G', 'GS', 'MP', 'FG', 'FGA', 'FG%', '3P', '3PA', '3P%', '2P', '2PA', '2P%', 'eFG%', 'FT', 'FTA', 'FT%', 'ORB', 'DRB', 'TRB', 'AST', 'STL', 'BLK', 'TOV', 'PF', 'PTS\"']\n"
     ]
    }
   ],
   "source": [
    "PT_TS = pd.read_csv(file_name, sep = r',\\s*', engine='python')\n",
    "print(PT_TS)\n",
    "columns_list = PT_TS.columns.tolist()\n",
    "print(columns_list)"
   ]
  },
  {
   "cell_type": "code",
   "execution_count": 10,
   "metadata": {},
   "outputs": [],
   "source": [
    "columns_to_drop = ['\"Rk', 'G', 'GS', 'MP', 'FG', 'FGA', '3P', '3PA', '2P', '2PA', '2P%', 'eFG%', 'FT', 'FTA', 'ORB', 'DRB', 'TOV', 'PF']\n",
    "PT_TS.drop(columns=columns_to_drop, inplace=True)"
   ]
  },
  {
   "cell_type": "code",
   "execution_count": 11,
   "metadata": {},
   "outputs": [
    {
     "name": "stdout",
     "output_type": "stream",
     "text": [
      "               Player  Age    FG%    3P%    FT%  TRB  AST  STL  BLK   PTS\"  \\\n",
      "0        Jayson Tatum   24  0.466  0.350  0.854  8.8  4.6  1.1  0.7  30.1\"   \n",
      "1        Jaylen Brown   26  0.491  0.335  0.765  6.9  3.5  1.1  0.4  26.6\"   \n",
      "2        Marcus Smart   28  0.415  0.336  0.746  3.1  6.3  1.5  0.4  11.5\"   \n",
      "3          Al Horford   36  0.476  0.446  0.714  6.2  3.0  0.5  1.0   9.8\"   \n",
      "4       Derrick White   28  0.462  0.381  0.875  3.6  3.9  0.7  0.9  12.4\"   \n",
      "5     Malcolm Brogdon   30  0.484  0.444  0.870  4.2  3.7  0.7  0.3  14.9\"   \n",
      "6      Grant Williams   24  0.454  0.395  0.770  4.6  1.7  0.5  0.4   8.1\"   \n",
      "7     Robert Williams   25  0.747  0.000  0.610  8.3  1.4  0.6  1.4   8.0\"   \n",
      "8        Mike Muscala   31  0.472  0.385  0.692  3.4  0.6  0.2  0.3   5.9\"   \n",
      "9          Sam Hauser   25  0.455  0.418  0.706  2.6  0.9  0.4  0.3   6.4\"   \n",
      "10      Blake Griffin   33  0.485  0.348  0.656  3.8  1.5  0.3  0.2   4.1\"   \n",
      "11   Payton Pritchard   25  0.412  0.364  0.750  1.8  1.3  0.3  0.0   5.6\"   \n",
      "12        Luke Kornet   27  0.665  0.231  0.821  2.9  0.8  0.2  0.7   3.8\"   \n",
      "13  Justin Champagnie   21  0.167  0.200    NaN  2.0  1.5  0.5  0.0   2.5\"   \n",
      "14  Mfiondu Kabengele   25  0.286  0.000  1.000  2.5  0.0  0.5  0.0   1.5\"   \n",
      "15        Noah Vonleh   27  0.458  0.250  1.000  2.1  0.3  0.1  0.3   1.1\"   \n",
      "16         JD Davison   20  0.421  0.286  0.500  0.8  0.9  0.2  0.2   1.6\"   \n",
      "17     Justin Jackson   27  0.259  0.250  0.500  0.7  0.4  0.2  0.2   0.9\"   \n",
      "\n",
      "     PTS  \n",
      "0   30.1  \n",
      "1   26.6  \n",
      "2   11.5  \n",
      "3    9.8  \n",
      "4   12.4  \n",
      "5   14.9  \n",
      "6    8.1  \n",
      "7    8.0  \n",
      "8    5.9  \n",
      "9    6.4  \n",
      "10   4.1  \n",
      "11   5.6  \n",
      "12   3.8  \n",
      "13   2.5  \n",
      "14   1.5  \n",
      "15   1.1  \n",
      "16   1.6  \n",
      "17   0.9  \n"
     ]
    }
   ],
   "source": [
    "PT_TS['PTS'] = PT_TS['PTS\"'].str.replace('\"','')\n",
    "print(PT_TS)"
   ]
  }
 ],
 "metadata": {
  "kernelspec": {
   "display_name": "Python 3",
   "language": "python",
   "name": "python3"
  },
  "language_info": {
   "codemirror_mode": {
    "name": "ipython",
    "version": 3
   },
   "file_extension": ".py",
   "mimetype": "text/x-python",
   "name": "python",
   "nbconvert_exporter": "python",
   "pygments_lexer": "ipython3",
   "version": "3.11.3"
  },
  "orig_nbformat": 4
 },
 "nbformat": 4,
 "nbformat_minor": 2
}
