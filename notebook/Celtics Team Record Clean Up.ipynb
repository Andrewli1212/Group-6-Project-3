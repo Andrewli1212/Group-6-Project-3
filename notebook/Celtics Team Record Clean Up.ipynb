{
 "cells": [
  {
   "cell_type": "code",
   "execution_count": 8,
   "metadata": {},
   "outputs": [],
   "source": [
    "import os\n",
    "import pandas as pd\n",
    "import re"
   ]
  },
  {
   "cell_type": "code",
   "execution_count": 2,
   "metadata": {},
   "outputs": [
    {
     "name": "stdout",
     "output_type": "stream",
     "text": [
      "c:\\Users\\mabey\\OneDrive\\Desktop\\Project 3\n"
     ]
    }
   ],
   "source": [
    "print(os.getcwd())"
   ]
  },
  {
   "cell_type": "code",
   "execution_count": 3,
   "metadata": {},
   "outputs": [],
   "source": [
    "# Get the current working directory\n",
    "current_directory = os.getcwd()\n"
   ]
  },
  {
   "cell_type": "code",
   "execution_count": 4,
   "metadata": {},
   "outputs": [
    {
     "name": "stdout",
     "output_type": "stream",
     "text": [
      "['Celtics Team Stats.csv', 'Celtics2.csv', 'Data Cleanup 2.ipynb', 'Data Cleanup.csv', 'Data Cleanup.ipynb']\n"
     ]
    }
   ],
   "source": [
    "# List all files and directories in the current working directory\n",
    "files_in_directory = os.listdir(current_directory)\n",
    "print(files_in_directory)"
   ]
  },
  {
   "cell_type": "code",
   "execution_count": 6,
   "metadata": {},
   "outputs": [
    {
     "name": "stdout",
     "output_type": "stream",
     "text": [
      "   Season,Lg,Team,W,L,W/L%,Finish,SRS,,Pace,Rel Pace,ORtg,Rel ORtg,DRtg,Rel DRtg,,Playoffs,Coaches,Top WS\n",
      "0   2023-24,NBA,Boston Celtics,0,0,,,,,,,,,,,,,J. ...                                                    \n",
      "1   2022-23,NBA,Boston Celtics*,57,25,.695,1st of ...                                                    \n",
      "2   2021-22,NBA,Boston Celtics*,51,31,.622,1st of ...                                                    \n",
      "3   2020-21,NBA,Boston Celtics*,36,36,.500,4th of ...                                                    \n",
      "4   2019-20,NBA,Boston Celtics*,48,24,.667,2nd of ...                                                    \n",
      "5   2018-19,NBA,Boston Celtics*,49,33,.598,3rd of ...                                                    \n",
      "6   2017-18,NBA,Boston Celtics*,55,27,.671,2nd of ...                                                    \n",
      "7   2016-17,NBA,Boston Celtics*,53,29,.646,1st of ...                                                    \n",
      "8   2015-16,NBA,Boston Celtics*,48,34,.585,2nd of ...                                                    \n",
      "9   2014-15,NBA,Boston Celtics*,40,42,.488,2nd of ...                                                    \n",
      "10  2013-14,NBA,Boston Celtics,25,57,.305,4th of 5...                                                    \n",
      "11  2012-13,NBA,Boston Celtics*,41,40,.506,3rd of ...                                                    \n",
      "12  2011-12,NBA,Boston Celtics*,39,27,.591,1st of ...                                                    \n",
      "13  2010-11,NBA,Boston Celtics*,56,26,.683,1st of ...                                                    \n",
      "14  2009-10,NBA,Boston Celtics*,50,32,.610,1st of ...                                                    \n",
      "15  2008-09,NBA,Boston Celtics*,62,20,.756,1st of ...                                                    \n",
      "16  2007-08,NBA,Boston Celtics*,66,16,.805,1st of ...                                                    \n",
      "17  2006-07,NBA,Boston Celtics,24,58,.293,5th of 5...                                                    \n",
      "18  2005-06,NBA,Boston Celtics,33,49,.402,3rd of 5...                                                    \n",
      "19  2004-05,NBA,Boston Celtics*,45,37,.549,1st of ...                                                    \n",
      "20  2003-04,NBA,Boston Celtics*,36,46,.439,4th of ...                                                    \n",
      "21  2002-03,NBA,Boston Celtics*,44,38,.537,3rd of ...                                                    \n",
      "22  2001-02,NBA,Boston Celtics*,49,33,.598,2nd of ...                                                    \n",
      "23  2000-01,NBA,Boston Celtics,36,46,.439,5th of 7...                                                    \n",
      "24  1999-00,NBA,Boston Celtics,35,47,.427,5th of 7...                                                    \n",
      "25  1998-99,NBA,Boston Celtics,19,31,.380,5th of 7...                                                    \n",
      "26  1997-98,NBA,Boston Celtics,36,46,.439,6th of 7...                                                    \n",
      "27  1996-97,NBA,Boston Celtics,15,67,.183,7th of 7...                                                    \n",
      "28  1995-96,NBA,Boston Celtics,33,49,.402,5th of 7...                                                    \n",
      "29  1994-95,NBA,Boston Celtics*,35,47,.427,3rd of ...                                                    \n"
     ]
    }
   ],
   "source": [
    "file_name = 'Celtics2.csv'\n",
    "BC_TR = pd.read_csv(file_name, encoding='ISO-8859-1')\n",
    "print(BC_TR)"
   ]
  },
  {
   "cell_type": "code",
   "execution_count": 11,
   "metadata": {},
   "outputs": [
    {
     "name": "stdout",
     "output_type": "stream",
     "text": [
      "0    \"Season   Lg             Team   W   L  W/L%    Finish    SRS    Pace  \\\n",
      "1   \"2023-24  NBA   Boston Celtics   0   0                                  \n",
      "2   \"2022-23  NBA  Boston Celtics*  57  25  .695  1st of 5   6.38    98.5   \n",
      "3   \"2021-22  NBA  Boston Celtics*  51  31  .622  1st of 5   7.02    96.6   \n",
      "4   \"2020-21  NBA  Boston Celtics*  36  36  .500  4th of 5   1.32    98.3   \n",
      "5   \"2019-20  NBA  Boston Celtics*  48  24  .667  2nd of 5   5.83    99.5   \n",
      "6   \"2018-19  NBA  Boston Celtics*  49  33  .598  3rd of 5   3.90    99.6   \n",
      "7   \"2017-18  NBA  Boston Celtics*  55  27  .671  2nd of 5   3.23    96.0   \n",
      "8   \"2016-17  NBA  Boston Celtics*  53  29  .646  1st of 5   2.25    96.8   \n",
      "9   \"2015-16  NBA  Boston Celtics*  48  34  .585  2nd of 5   2.84    98.5   \n",
      "10  \"2014-15  NBA  Boston Celtics*  40  42  .488  2nd of 5  -0.40    95.8   \n",
      "11  \"2013-14  NBA   Boston Celtics  25  57  .305  4th of 5  -4.97    93.3   \n",
      "12  \"2012-13  NBA  Boston Celtics*  41  40  .506  3rd of 5  -0.62    91.7   \n",
      "13  \"2011-12  NBA  Boston Celtics*  39  27  .591  1st of 5   2.26    90.4   \n",
      "14  \"2010-11  NBA  Boston Celtics*  56  26  .683  1st of 5   4.83    90.4   \n",
      "15  \"2009-10  NBA  Boston Celtics*  50  32  .610  1st of 5   3.37    91.6   \n",
      "16  \"2008-09  NBA  Boston Celtics*  62  20  .756  1st of 5   7.44    90.4   \n",
      "17  \"2007-08  NBA  Boston Celtics*  66  16  .805  1st of 5   9.30    90.9   \n",
      "18  \"2006-07  NBA   Boston Celtics  24  58  .293  5th of 5  -3.70    92.0   \n",
      "19  \"2005-06  NBA   Boston Celtics  33  49  .402  3rd of 5  -1.59    92.2   \n",
      "20  \"2004-05  NBA  Boston Celtics*  45  37  .549  1st of 5   0.35    93.3   \n",
      "21  \"2003-04  NBA  Boston Celtics*  36  46  .439  4th of 7  -1.99    93.2   \n",
      "22  \"2002-03  NBA  Boston Celtics*  44  38  .537  3rd of 7  -0.75    90.9   \n",
      "23  \"2001-02  NBA  Boston Celtics*  49  33  .598  2nd of 7   1.75    92.5   \n",
      "24  \"2000-01  NBA   Boston Celtics  36  46  .439  5th of 7  -2.40    92.6   \n",
      "25  \"1999-00  NBA   Boston Celtics  35  47  .427  5th of 7  -1.00    94.6   \n",
      "26  \"1998-99  NBA   Boston Celtics  19  31  .380  5th of 7  -1.75    91.5   \n",
      "27  \"1997-98  NBA   Boston Celtics  36  46  .439  6th of 7  -1.96    93.3   \n",
      "28  \"1996-97  NBA   Boston Celtics  15  67  .183  7th of 7  -6.62    95.8   \n",
      "29  \"1995-96  NBA   Boston Celtics  33  49  .402  5th of 7  -3.37    96.2   \n",
      "30  \"1994-95  NBA  Boston Celtics*  35  47  .427  3rd of 7  -1.92    94.0   \n",
      "\n",
      "0  Rel Pace   ORtg Rel ORtg   DRtg Rel DRtg                  Playoffs  \\\n",
      "1                                                                       \n",
      "2      -0.6  118.0      3.2  111.5     -3.3      Lost E. Conf. Finals   \n",
      "3      -1.6  114.4      2.4  106.9     -5.1               Lost Finals   \n",
      "4      -0.9  114.0      1.7  112.5      0.2    Lost E. Conf. 1st Rnd.   \n",
      "5      -0.8  113.3      2.7  107.0     -3.6      Lost E. Conf. Finals   \n",
      "6      -0.4  112.2      1.8  107.8     -2.6       Lost E. Conf. Semis   \n",
      "7      -1.3  107.6     -1.0  103.9     -4.7      Lost E. Conf. Finals   \n",
      "8       0.4  111.2      2.4  108.4     -0.4      Lost E. Conf. Finals   \n",
      "9       2.7  106.8      0.4  103.6     -2.8    Lost E. Conf. 1st Rnd.   \n",
      "10      1.9  104.7     -0.9  104.5     -1.1    Lost E. Conf. 1st Rnd.   \n",
      "11     -0.6  102.9     -3.8  107.7      1.0                             \n",
      "12     -0.3  103.1     -2.8  103.3     -2.6    Lost E. Conf. 1st Rnd.   \n",
      "13     -0.9  101.0     -3.6   98.2     -6.4      Lost E. Conf. Finals   \n",
      "14     -1.7  106.2     -1.1  100.3     -7.0       Lost E. Conf. Semis   \n",
      "15     -1.1  107.7      0.1  103.8     -3.8               Lost Finals   \n",
      "16     -1.3  110.5      2.2  102.3     -6.0       Lost E. Conf. Semis   \n",
      "17     -1.5  110.2      2.7   98.9     -8.6                Won Finals   \n",
      "18      0.1  103.2     -3.3  106.9      0.4                             \n",
      "19      1.7  105.2     -1.0  106.9      0.7                             \n",
      "20      2.4  107.5      1.4  106.6      0.5    Lost E. Conf. 1st Rnd.   \n",
      "21      3.1  102.1     -0.8  103.7      0.8    Lost E. Conf. 1st Rnd.   \n",
      "22     -0.1  101.2     -2.4  101.6     -2.0       Lost E. Conf. Semis   \n",
      "23      1.8  103.4     -1.1  101.0     -3.5      Lost E. Conf. Finals   \n",
      "24      1.3  101.4     -1.6  103.7      0.7                             \n",
      "25      1.5  104.8      0.7  105.6      1.5                             \n",
      "26      2.6  100.4     -1.8  102.4      0.2                             \n",
      "27      3.0  102.6     -2.4  105.4      0.4                             \n",
      "28      5.7  103.9     -2.8  111.4      4.7                             \n",
      "29      4.4  106.4     -1.2  109.9      2.3                             \n",
      "30      1.1  108.6      0.3  110.6      2.3    Lost E. Conf. 1st Rnd.   \n",
      "\n",
      "0                                 Coaches              Top WS\"  \n",
      "1                       J. Mazzulla (0-0)                    \"  \n",
      "2                     J. Mazzulla (57-25)     J. Tatum (10.5)\"  \n",
      "3                        I. Udoka (51-31)   R. Williams (9.9)\"  \n",
      "4                      B. Stevens (36-36)      J. Tatum (6.5)\"  \n",
      "5                      B. Stevens (48-24)      J. Tatum (6.9)\"  \n",
      "6                      B. Stevens (49-33)     K. Irving (9.1)\"  \n",
      "7                      B. Stevens (55-27)     K. Irving (8.9)\"  \n",
      "8                      B. Stevens (53-29)    I. Thomas (12.5)\"  \n",
      "9                      B. Stevens (48-34)     I. Thomas (9.7)\"  \n",
      "10                     B. Stevens (40-42)     T. Zeller (6.5)\"  \n",
      "11                     B. Stevens (25-57)       B. Bass (5.1)\"  \n",
      "12                      D. Rivers (41-40)     P. Pierce (7.2)\"  \n",
      "13                      D. Rivers (39-27)     P. Pierce (7.0)\"  \n",
      "14                      D. Rivers (56-26)    P. Pierce (11.6)\"  \n",
      "15                      D. Rivers (50-32)      R. Rondo (9.6)\"  \n",
      "16                      D. Rivers (62-20)     R. Allen (11.1)\"  \n",
      "17                      D. Rivers (66-16)   K. Garnett (12.9)\"  \n",
      "18                      D. Rivers (24-58)  A. Jefferson (6.6)\"  \n",
      "19                      D. Rivers (33-49)    P. Pierce (11.5)\"  \n",
      "20                      D. Rivers (45-37)    P. Pierce (11.2)\"  \n",
      "21  J. O'Brien (22-24) J. Carroll (14-22)     P. Pierce (7.1)\"  \n",
      "22                     J. O'Brien (44-38)    P. Pierce (10.1)\"  \n",
      "23                     J. O'Brien (49-33)    P. Pierce (12.9)\"  \n",
      "24   R. Pitino (12-22) J. O'Brien (24-24)    P. Pierce (10.4)\"  \n",
      "25                      R. Pitino (35-47)     P. Pierce (8.2)\"  \n",
      "26                      R. Pitino (19-31)     P. Pierce (4.9)\"  \n",
      "27                      R. Pitino (36-46)     D. Barros (5.6)\"  \n",
      "28                        M. Carr (15-67)     D. Wesley (6.1)\"  \n",
      "29                        M. Carr (33-49)     D. Wesley (6.3)\"  \n",
      "30                        C. Ford (35-47)      D. Brown (6.8)\"  \n"
     ]
    }
   ],
   "source": [
    "file_name = 'Celtics2.csv'\n",
    "# Read the file line by line and split using the custom separator\n",
    "data = []\n",
    "with open(file_name, 'r', encoding='ISO-8859-1') as file:\n",
    "    for line in file:\n",
    "        row = re.split(r',\\s*', line.strip())\n",
    "        data.append(row)\n",
    "# Convert the data to a DataFrame\n",
    "BC_TR = pd.DataFrame(data)\n",
    "# If the first row contains headers, set them as column names\n",
    "BC_TR.columns = BC_TR.iloc[0]\n",
    "BC_TR = BC_TR[1:]\n",
    "print(BC_TR)"
   ]
  },
  {
   "cell_type": "code",
   "execution_count": 12,
   "metadata": {},
   "outputs": [
    {
     "name": "stdout",
     "output_type": "stream",
     "text": [
      "Index(['\"Season', 'Lg', 'Team', 'W', 'L', 'W/L%', 'Finish', 'SRS', '', 'Pace',\n",
      "       'Rel Pace', 'ORtg', 'Rel ORtg', 'DRtg', 'Rel DRtg', '', 'Playoffs',\n",
      "       'Coaches', 'Top WS\"'],\n",
      "      dtype='object', name=0)\n"
     ]
    }
   ],
   "source": [
    "columns_to_drop = ['Finish', 'SRS', 'Unnamed: 8', 'Pace', 'Rel Pace', 'ORtg', 'Rel ORtg', 'DRtg', 'Rel DRtg', 'Unnamed: 15', 'Playoffs', 'Coaches', 'Top WS']\n",
    "print(BC_TR.columns)"
   ]
  },
  {
   "cell_type": "code",
   "execution_count": 13,
   "metadata": {},
   "outputs": [
    {
     "name": "stdout",
     "output_type": "stream",
     "text": [
      "0    \"Season   Lg             Team   W   L  W/L%    Finish    SRS    Pace  \\\n",
      "1   \"2023-24  NBA   Boston Celtics   0   0                                  \n",
      "2   \"2022-23  NBA  Boston Celtics*  57  25  .695  1st of 5   6.38    98.5   \n",
      "3   \"2021-22  NBA  Boston Celtics*  51  31  .622  1st of 5   7.02    96.6   \n",
      "4   \"2020-21  NBA  Boston Celtics*  36  36  .500  4th of 5   1.32    98.3   \n",
      "5   \"2019-20  NBA  Boston Celtics*  48  24  .667  2nd of 5   5.83    99.5   \n",
      "6   \"2018-19  NBA  Boston Celtics*  49  33  .598  3rd of 5   3.90    99.6   \n",
      "7   \"2017-18  NBA  Boston Celtics*  55  27  .671  2nd of 5   3.23    96.0   \n",
      "8   \"2016-17  NBA  Boston Celtics*  53  29  .646  1st of 5   2.25    96.8   \n",
      "9   \"2015-16  NBA  Boston Celtics*  48  34  .585  2nd of 5   2.84    98.5   \n",
      "10  \"2014-15  NBA  Boston Celtics*  40  42  .488  2nd of 5  -0.40    95.8   \n",
      "11  \"2013-14  NBA   Boston Celtics  25  57  .305  4th of 5  -4.97    93.3   \n",
      "12  \"2012-13  NBA  Boston Celtics*  41  40  .506  3rd of 5  -0.62    91.7   \n",
      "13  \"2011-12  NBA  Boston Celtics*  39  27  .591  1st of 5   2.26    90.4   \n",
      "14  \"2010-11  NBA  Boston Celtics*  56  26  .683  1st of 5   4.83    90.4   \n",
      "15  \"2009-10  NBA  Boston Celtics*  50  32  .610  1st of 5   3.37    91.6   \n",
      "16  \"2008-09  NBA  Boston Celtics*  62  20  .756  1st of 5   7.44    90.4   \n",
      "17  \"2007-08  NBA  Boston Celtics*  66  16  .805  1st of 5   9.30    90.9   \n",
      "18  \"2006-07  NBA   Boston Celtics  24  58  .293  5th of 5  -3.70    92.0   \n",
      "19  \"2005-06  NBA   Boston Celtics  33  49  .402  3rd of 5  -1.59    92.2   \n",
      "20  \"2004-05  NBA  Boston Celtics*  45  37  .549  1st of 5   0.35    93.3   \n",
      "21  \"2003-04  NBA  Boston Celtics*  36  46  .439  4th of 7  -1.99    93.2   \n",
      "22  \"2002-03  NBA  Boston Celtics*  44  38  .537  3rd of 7  -0.75    90.9   \n",
      "23  \"2001-02  NBA  Boston Celtics*  49  33  .598  2nd of 7   1.75    92.5   \n",
      "24  \"2000-01  NBA   Boston Celtics  36  46  .439  5th of 7  -2.40    92.6   \n",
      "25  \"1999-00  NBA   Boston Celtics  35  47  .427  5th of 7  -1.00    94.6   \n",
      "26  \"1998-99  NBA   Boston Celtics  19  31  .380  5th of 7  -1.75    91.5   \n",
      "27  \"1997-98  NBA   Boston Celtics  36  46  .439  6th of 7  -1.96    93.3   \n",
      "28  \"1996-97  NBA   Boston Celtics  15  67  .183  7th of 7  -6.62    95.8   \n",
      "29  \"1995-96  NBA   Boston Celtics  33  49  .402  5th of 7  -3.37    96.2   \n",
      "30  \"1994-95  NBA  Boston Celtics*  35  47  .427  3rd of 7  -1.92    94.0   \n",
      "\n",
      "0  Rel Pace   ORtg Rel ORtg   DRtg Rel DRtg                  Playoffs  \\\n",
      "1                                                                       \n",
      "2      -0.6  118.0      3.2  111.5     -3.3      Lost E. Conf. Finals   \n",
      "3      -1.6  114.4      2.4  106.9     -5.1               Lost Finals   \n",
      "4      -0.9  114.0      1.7  112.5      0.2    Lost E. Conf. 1st Rnd.   \n",
      "5      -0.8  113.3      2.7  107.0     -3.6      Lost E. Conf. Finals   \n",
      "6      -0.4  112.2      1.8  107.8     -2.6       Lost E. Conf. Semis   \n",
      "7      -1.3  107.6     -1.0  103.9     -4.7      Lost E. Conf. Finals   \n",
      "8       0.4  111.2      2.4  108.4     -0.4      Lost E. Conf. Finals   \n",
      "9       2.7  106.8      0.4  103.6     -2.8    Lost E. Conf. 1st Rnd.   \n",
      "10      1.9  104.7     -0.9  104.5     -1.1    Lost E. Conf. 1st Rnd.   \n",
      "11     -0.6  102.9     -3.8  107.7      1.0                             \n",
      "12     -0.3  103.1     -2.8  103.3     -2.6    Lost E. Conf. 1st Rnd.   \n",
      "13     -0.9  101.0     -3.6   98.2     -6.4      Lost E. Conf. Finals   \n",
      "14     -1.7  106.2     -1.1  100.3     -7.0       Lost E. Conf. Semis   \n",
      "15     -1.1  107.7      0.1  103.8     -3.8               Lost Finals   \n",
      "16     -1.3  110.5      2.2  102.3     -6.0       Lost E. Conf. Semis   \n",
      "17     -1.5  110.2      2.7   98.9     -8.6                Won Finals   \n",
      "18      0.1  103.2     -3.3  106.9      0.4                             \n",
      "19      1.7  105.2     -1.0  106.9      0.7                             \n",
      "20      2.4  107.5      1.4  106.6      0.5    Lost E. Conf. 1st Rnd.   \n",
      "21      3.1  102.1     -0.8  103.7      0.8    Lost E. Conf. 1st Rnd.   \n",
      "22     -0.1  101.2     -2.4  101.6     -2.0       Lost E. Conf. Semis   \n",
      "23      1.8  103.4     -1.1  101.0     -3.5      Lost E. Conf. Finals   \n",
      "24      1.3  101.4     -1.6  103.7      0.7                             \n",
      "25      1.5  104.8      0.7  105.6      1.5                             \n",
      "26      2.6  100.4     -1.8  102.4      0.2                             \n",
      "27      3.0  102.6     -2.4  105.4      0.4                             \n",
      "28      5.7  103.9     -2.8  111.4      4.7                             \n",
      "29      4.4  106.4     -1.2  109.9      2.3                             \n",
      "30      1.1  108.6      0.3  110.6      2.3    Lost E. Conf. 1st Rnd.   \n",
      "\n",
      "0                                 Coaches              Top WS\"   Season  \n",
      "1                       J. Mazzulla (0-0)                    \"  2023-24  \n",
      "2                     J. Mazzulla (57-25)     J. Tatum (10.5)\"  2022-23  \n",
      "3                        I. Udoka (51-31)   R. Williams (9.9)\"  2021-22  \n",
      "4                      B. Stevens (36-36)      J. Tatum (6.5)\"  2020-21  \n",
      "5                      B. Stevens (48-24)      J. Tatum (6.9)\"  2019-20  \n",
      "6                      B. Stevens (49-33)     K. Irving (9.1)\"  2018-19  \n",
      "7                      B. Stevens (55-27)     K. Irving (8.9)\"  2017-18  \n",
      "8                      B. Stevens (53-29)    I. Thomas (12.5)\"  2016-17  \n",
      "9                      B. Stevens (48-34)     I. Thomas (9.7)\"  2015-16  \n",
      "10                     B. Stevens (40-42)     T. Zeller (6.5)\"  2014-15  \n",
      "11                     B. Stevens (25-57)       B. Bass (5.1)\"  2013-14  \n",
      "12                      D. Rivers (41-40)     P. Pierce (7.2)\"  2012-13  \n",
      "13                      D. Rivers (39-27)     P. Pierce (7.0)\"  2011-12  \n",
      "14                      D. Rivers (56-26)    P. Pierce (11.6)\"  2010-11  \n",
      "15                      D. Rivers (50-32)      R. Rondo (9.6)\"  2009-10  \n",
      "16                      D. Rivers (62-20)     R. Allen (11.1)\"  2008-09  \n",
      "17                      D. Rivers (66-16)   K. Garnett (12.9)\"  2007-08  \n",
      "18                      D. Rivers (24-58)  A. Jefferson (6.6)\"  2006-07  \n",
      "19                      D. Rivers (33-49)    P. Pierce (11.5)\"  2005-06  \n",
      "20                      D. Rivers (45-37)    P. Pierce (11.2)\"  2004-05  \n",
      "21  J. O'Brien (22-24) J. Carroll (14-22)     P. Pierce (7.1)\"  2003-04  \n",
      "22                     J. O'Brien (44-38)    P. Pierce (10.1)\"  2002-03  \n",
      "23                     J. O'Brien (49-33)    P. Pierce (12.9)\"  2001-02  \n",
      "24   R. Pitino (12-22) J. O'Brien (24-24)    P. Pierce (10.4)\"  2000-01  \n",
      "25                      R. Pitino (35-47)     P. Pierce (8.2)\"  1999-00  \n",
      "26                      R. Pitino (19-31)     P. Pierce (4.9)\"  1998-99  \n",
      "27                      R. Pitino (36-46)     D. Barros (5.6)\"  1997-98  \n",
      "28                        M. Carr (15-67)     D. Wesley (6.1)\"  1996-97  \n",
      "29                        M. Carr (33-49)     D. Wesley (6.3)\"  1995-96  \n",
      "30                        C. Ford (35-47)      D. Brown (6.8)\"  1994-95  \n"
     ]
    }
   ],
   "source": [
    "BC_TR['Season'] = BC_TR['\"Season'].str.replace('\"', '')\n",
    "print(BC_TR)"
   ]
  },
  {
   "cell_type": "code",
   "execution_count": 14,
   "metadata": {},
   "outputs": [],
   "source": [
    "BC_TR.to_csv('Boston Celtics Team Record.csv', index=False)"
   ]
  }
 ],
 "metadata": {
  "kernelspec": {
   "display_name": "Python 3",
   "language": "python",
   "name": "python3"
  },
  "language_info": {
   "codemirror_mode": {
    "name": "ipython",
    "version": 3
   },
   "file_extension": ".py",
   "mimetype": "text/x-python",
   "name": "python",
   "nbconvert_exporter": "python",
   "pygments_lexer": "ipython3",
   "version": "3.11.3"
  },
  "orig_nbformat": 4
 },
 "nbformat": 4,
 "nbformat_minor": 2
}
