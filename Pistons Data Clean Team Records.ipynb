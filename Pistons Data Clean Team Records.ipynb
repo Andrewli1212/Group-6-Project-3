{
 "cells": [
  {
   "cell_type": "code",
   "execution_count": 19,
   "metadata": {},
   "outputs": [],
   "source": [
    "import os\n",
    "import pandas as pd\n",
    "import re"
   ]
  },
  {
   "cell_type": "code",
   "execution_count": 2,
   "metadata": {},
   "outputs": [
    {
     "name": "stdout",
     "output_type": "stream",
     "text": [
      "c:\\Users\\Dreiv\\OneDrive\\Desktop\\Project 3\n"
     ]
    }
   ],
   "source": [
    "print(os.getcwd())  "
   ]
  },
  {
   "cell_type": "code",
   "execution_count": 13,
   "metadata": {},
   "outputs": [
    {
     "name": "stdout",
     "output_type": "stream",
     "text": [
      "['Data', 'Data Cleanup.ipynb', 'Detroit Pistions Team Stats.csv', 'index.html', 'Java', 'MIA TR Data Clean up.ipynb', 'MIA.db', 'Miami Heat Team Record.csv', 'Miami Heat.db', 'Miami Team Stats.csv', 'MIA_TR_cleaned.csv', 'MIA_TS.csv', 'Pistons TR.csv', 'Pistons.csv']\n"
     ]
    }
   ],
   "source": [
    "current_directory = os.getcwd()\n",
    "\n",
    "files_in_directory = os.listdir(current_directory)\n",
    "\n",
    "print(files_in_directory)"
   ]
  },
  {
   "cell_type": "code",
   "execution_count": 16,
   "metadata": {},
   "outputs": [
    {
     "name": "stdout",
     "output_type": "stream",
     "text": [
      "   Season,Lg,Team,W,L,W/L%,Finish,SRS,,Pace,Rel Pace,ORtg,Rel ORtg,DRtg,Rel DRtg,,Playoffs,Coaches,Top WS\n",
      "0   2023-24,NBA,Detroit Pistons,0,0,,,,,,,,,,,,,M....                                                    \n",
      "1   2022-23,NBA,Detroit Pistons,17,65,.207,5th of ...                                                    \n",
      "2   2021-22,NBA,Detroit Pistons,23,59,.280,5th of ...                                                    \n",
      "3   2020-21,NBA,Detroit Pistons,20,52,.278,5th of ...                                                    \n",
      "4   2019-20,NBA,Detroit Pistons,20,46,.303,4th of ...                                                    \n",
      "..                                                ...                                                    \n",
      "71  1952-53,NBA,Fort Wayne Pistons*,36,33,.522,3rd...                                                    \n",
      "72  1951-52,NBA,Fort Wayne Pistons*,29,37,.439,4th...                                                    \n",
      "73  1950-51,NBA,Fort Wayne Pistons*,32,36,.471,3rd...                                                    \n",
      "74  1949-50,NBA,Fort Wayne Pistons*,40,28,.588,3rd...                                                    \n",
      "75  1948-49,BAA,Fort Wayne Pistons,22,38,.367,5th ...                                                    \n",
      "\n",
      "[76 rows x 1 columns]\n"
     ]
    }
   ],
   "source": [
    "file_name = 'Pistons TR.csv'\n",
    "PT_TR = pd.read_csv(file_name, encoding='ISO-8859-1')\n",
    "print(PT_TR)\n"
   ]
  },
  {
   "cell_type": "code",
   "execution_count": 22,
   "metadata": {},
   "outputs": [
    {
     "name": "stdout",
     "output_type": "stream",
     "text": [
      "1   \"2023-24  NBA      Detroit Pistons   0   0                             \n",
      "1   \"2023-24  NBA      Detroit Pistons   0   0                            \\\n",
      "2   \"2022-23  NBA      Detroit Pistons  17  65  .207  5th of 5  -7.73      \n",
      "3   \"2021-22  NBA      Detroit Pistons  23  59  .280  5th of 5  -7.36      \n",
      "4   \"2020-21  NBA      Detroit Pistons  20  52  .278  5th of 5  -4.38      \n",
      "5   \"2019-20  NBA      Detroit Pistons  20  46  .303  4th of 5  -4.38      \n",
      "..       ...  ...                  ...  ..  ..   ...       ...    ... ..   \n",
      "72  \"1952-53  NBA  Fort Wayne Pistons*  36  33  .522  3rd of 5   0.17      \n",
      "73  \"1951-52  NBA  Fort Wayne Pistons*  29  37  .439  4th of 5  -1.83      \n",
      "74  \"1950-51  NBA  Fort Wayne Pistons*  32  36  .471  3rd of 5  -1.81      \n",
      "75  \"1949-50  NBA  Fort Wayne Pistons*  40  28  .588  3rd of 5   1.84      \n",
      "76  \"1948-49  BAA   Fort Wayne Pistons  22  38  .367  5th of 6  -2.85      \n",
      "\n",
      "1                                                                        \n",
      "1                                                                       \\\n",
      "2    99.0  -0.1  110.7  -4.1  118.9   4.1                                \n",
      "3    98.4   0.2  106.0  -6.0  113.8   1.8                                \n",
      "4    97.9  -1.3  108.0  -4.3  112.5   0.2                                \n",
      "5    97.6  -2.7  109.0  -1.6  112.7   2.1                                \n",
      "..    ...   ...    ...   ...    ...   ... ..                       ...   \n",
      "72   91.1  10.7   87.6  -0.4   87.7   0.0          Lost W. Div. Finals   \n",
      "73   90.1   4.3   85.6  -1.3   87.9   1.0           Lost W. Div. Semis   \n",
      "74  102.4  16.9   82.0  -3.1   83.8  -1.3           Lost W. Div. Semis   \n",
      "75                                            Lost Central Div. Finals   \n",
      "76                                                                       \n",
      "\n",
      "1                       M. Williams (0-0)                   \"  \n",
      "1                       M. Williams (0-0)                   \"  \n",
      "2                        D. Casey (17-65)     J. Duren (4.5)\"  \n",
      "3                        D. Casey (23-59)       S. Bey (4.0)\"  \n",
      "4                        D. Casey (20-52)   M. Plumlee (5.1)\"  \n",
      "5                        D. Casey (20-46)      C. Wood (5.1)\"  \n",
      "..                                    ...                 ...  \n",
      "72                       P. Birch (36-33)     L. Foust (6.3)\"  \n",
      "73                       P. Birch (29-37)     L. Foust (7.1)\"  \n",
      "74                  M. Mendenhall (32-36)    F. Schaus (8.5)\"  \n",
      "75                  M. Mendenhall (40-28)    F. Schaus (8.4)\"  \n",
      "76  C. Bennett (0-6) C. Armstrong (22-32)  R. Niemiera (4.8)\"  \n",
      "\n",
      "[76 rows x 19 columns]\n"
     ]
    }
   ],
   "source": [
    "\n",
    "file_name = 'Pistons Team Record.csv'\n",
    "\n",
    "# Read the file line by line and split using the custom separator\n",
    "data = []\n",
    "with open(file_name, 'r', encoding='ISO-8859-1') as file:\n",
    "    for line in file:\n",
    "        row = re.split(r',\\s*', line.strip())\n",
    "        data.append(row)\n",
    "\n",
    "# Convert the data to a DataFrame\n",
    "PT_TR = pd.DataFrame(data)\n",
    "\n",
    "# If the first row contains headers, set them as column names\n",
    "PT_TR.columns = PT_TR.iloc[0]\n",
    "PT_TR = PT_TR[1:]\n",
    "\n",
    "print(PT_TR)\n"
   ]
  },
  {
   "cell_type": "code",
   "execution_count": 23,
   "metadata": {},
   "outputs": [
    {
     "name": "stdout",
     "output_type": "stream",
     "text": [
      "['\"Season', 'Lg', 'Team', 'W', 'L', 'W/L%', 'Finish', 'SRS', '', 'Pace', 'Rel Pace', 'ORtg', 'Rel ORtg', 'DRtg', 'Rel DRtg', '', 'Playoffs', 'Coaches', 'Top WS\"']\n"
     ]
    }
   ],
   "source": [
    "columns_list = PT_TR.columns.tolist()\n",
    "print(columns_list)"
   ]
  },
  {
   "cell_type": "code",
   "execution_count": 25,
   "metadata": {},
   "outputs": [
    {
     "name": "stdout",
     "output_type": "stream",
     "text": [
      "Index(['\"2023-24', 'NBA', 'Detroit Pistons', '0', '0', '', '', '', '', '', '',\n",
      "       '', '', '', '', '', '', 'M. Williams (0-0)', '\"'],\n",
      "      dtype='object', name=1)\n"
     ]
    }
   ],
   "source": [
    "columns_to_drop = ['Finish', 'SRS', 'Unnamed: 8', 'Pace', 'Rel Pace', 'ORtg', 'Rel ORtg', 'DRtg', 'Rel DRtg', 'Unnamed: 15', 'Playoffs', 'Coaches', 'Top WS']\n",
    "print(PT_TR.columns)"
   ]
  },
  {
   "cell_type": "code",
   "execution_count": 27,
   "metadata": {},
   "outputs": [
    {
     "name": "stdout",
     "output_type": "stream",
     "text": [
      "1   \"2023-24  NBA      Detroit Pistons   0   0                             \n",
      "1   \"2023-24  NBA      Detroit Pistons   0   0                            \\\n",
      "2   \"2022-23  NBA      Detroit Pistons  17  65  .207  5th of 5  -7.73      \n",
      "3   \"2021-22  NBA      Detroit Pistons  23  59  .280  5th of 5  -7.36      \n",
      "4   \"2020-21  NBA      Detroit Pistons  20  52  .278  5th of 5  -4.38      \n",
      "5   \"2019-20  NBA      Detroit Pistons  20  46  .303  4th of 5  -4.38      \n",
      "..       ...  ...                  ...  ..  ..   ...       ...    ... ..   \n",
      "72  \"1952-53  NBA  Fort Wayne Pistons*  36  33  .522  3rd of 5   0.17      \n",
      "73  \"1951-52  NBA  Fort Wayne Pistons*  29  37  .439  4th of 5  -1.83      \n",
      "74  \"1950-51  NBA  Fort Wayne Pistons*  32  36  .471  3rd of 5  -1.81      \n",
      "75  \"1949-50  NBA  Fort Wayne Pistons*  40  28  .588  3rd of 5   1.84      \n",
      "76  \"1948-49  BAA   Fort Wayne Pistons  22  38  .367  5th of 6  -2.85      \n",
      "\n",
      "1                                                                        \n",
      "1                                                                       \\\n",
      "2    99.0  -0.1  110.7  -4.1  118.9   4.1                                \n",
      "3    98.4   0.2  106.0  -6.0  113.8   1.8                                \n",
      "4    97.9  -1.3  108.0  -4.3  112.5   0.2                                \n",
      "5    97.6  -2.7  109.0  -1.6  112.7   2.1                                \n",
      "..    ...   ...    ...   ...    ...   ... ..                       ...   \n",
      "72   91.1  10.7   87.6  -0.4   87.7   0.0          Lost W. Div. Finals   \n",
      "73   90.1   4.3   85.6  -1.3   87.9   1.0           Lost W. Div. Semis   \n",
      "74  102.4  16.9   82.0  -3.1   83.8  -1.3           Lost W. Div. Semis   \n",
      "75                                            Lost Central Div. Finals   \n",
      "76                                                                       \n",
      "\n",
      "1                       M. Williams (0-0)                   \"  \n",
      "1                       M. Williams (0-0)                   \"  \n",
      "2                        D. Casey (17-65)     J. Duren (4.5)\"  \n",
      "3                        D. Casey (23-59)       S. Bey (4.0)\"  \n",
      "4                        D. Casey (20-52)   M. Plumlee (5.1)\"  \n",
      "5                        D. Casey (20-46)      C. Wood (5.1)\"  \n",
      "..                                    ...                 ...  \n",
      "72                       P. Birch (36-33)     L. Foust (6.3)\"  \n",
      "73                       P. Birch (29-37)     L. Foust (7.1)\"  \n",
      "74                  M. Mendenhall (32-36)    F. Schaus (8.5)\"  \n",
      "75                  M. Mendenhall (40-28)    F. Schaus (8.4)\"  \n",
      "76  C. Bennett (0-6) C. Armstrong (22-32)  R. Niemiera (4.8)\"  \n",
      "\n",
      "[76 rows x 19 columns]\n"
     ]
    }
   ],
   "source": [
    "print(PT_TR)"
   ]
  },
  {
   "cell_type": "code",
   "execution_count": 29,
   "metadata": {},
   "outputs": [
    {
     "name": "stdout",
     "output_type": "stream",
     "text": [
      "1   \"2023-24  NBA      Detroit Pistons   0   0                             \n",
      "1   \"2023-24  NBA      Detroit Pistons   0   0                            \\\n",
      "2   \"2022-23  NBA      Detroit Pistons  17  65  .207  5th of 5  -7.73      \n",
      "3   \"2021-22  NBA      Detroit Pistons  23  59  .280  5th of 5  -7.36      \n",
      "4   \"2020-21  NBA      Detroit Pistons  20  52  .278  5th of 5  -4.38      \n",
      "5   \"2019-20  NBA      Detroit Pistons  20  46  .303  4th of 5  -4.38      \n",
      "..       ...  ...                  ...  ..  ..   ...       ...    ... ..   \n",
      "72  \"1952-53  NBA  Fort Wayne Pistons*  36  33  .522  3rd of 5   0.17      \n",
      "73  \"1951-52  NBA  Fort Wayne Pistons*  29  37  .439  4th of 5  -1.83      \n",
      "74  \"1950-51  NBA  Fort Wayne Pistons*  32  36  .471  3rd of 5  -1.81      \n",
      "75  \"1949-50  NBA  Fort Wayne Pistons*  40  28  .588  3rd of 5   1.84      \n",
      "76  \"1948-49  BAA   Fort Wayne Pistons  22  38  .367  5th of 6  -2.85      \n",
      "\n",
      "1                                                                        \n",
      "1                                                                       \\\n",
      "2    99.0  -0.1  110.7  -4.1  118.9   4.1                                \n",
      "3    98.4   0.2  106.0  -6.0  113.8   1.8                                \n",
      "4    97.9  -1.3  108.0  -4.3  112.5   0.2                                \n",
      "5    97.6  -2.7  109.0  -1.6  112.7   2.1                                \n",
      "..    ...   ...    ...   ...    ...   ... ..                       ...   \n",
      "72   91.1  10.7   87.6  -0.4   87.7   0.0          Lost W. Div. Finals   \n",
      "73   90.1   4.3   85.6  -1.3   87.9   1.0           Lost W. Div. Semis   \n",
      "74  102.4  16.9   82.0  -3.1   83.8  -1.3           Lost W. Div. Semis   \n",
      "75                                            Lost Central Div. Finals   \n",
      "76                                                                       \n",
      "\n",
      "1                       M. Williams (0-0)                   \"  2023-24  \n",
      "1                       M. Williams (0-0)                   \"  2023-24  \n",
      "2                        D. Casey (17-65)     J. Duren (4.5)\"  2022-23  \n",
      "3                        D. Casey (23-59)       S. Bey (4.0)\"  2021-22  \n",
      "4                        D. Casey (20-52)   M. Plumlee (5.1)\"  2020-21  \n",
      "5                        D. Casey (20-46)      C. Wood (5.1)\"  2019-20  \n",
      "..                                    ...                 ...      ...  \n",
      "72                       P. Birch (36-33)     L. Foust (6.3)\"  1952-53  \n",
      "73                       P. Birch (29-37)     L. Foust (7.1)\"  1951-52  \n",
      "74                  M. Mendenhall (32-36)    F. Schaus (8.5)\"  1950-51  \n",
      "75                  M. Mendenhall (40-28)    F. Schaus (8.4)\"  1949-50  \n",
      "76  C. Bennett (0-6) C. Armstrong (22-32)  R. Niemiera (4.8)\"  1948-49  \n",
      "\n",
      "[76 rows x 20 columns]\n"
     ]
    }
   ],
   "source": [
    "PT_TR['2023-24'] = PT_TR['\"2023-24'].str.replace('\"', '')\n",
    "print(PT_TR)"
   ]
  },
  {
   "cell_type": "code",
   "execution_count": 30,
   "metadata": {},
   "outputs": [],
   "source": [
    "PT_TR.to_csv('Detroit Pistions Team Record.csv', index=False)"
   ]
  }
 ],
 "metadata": {
  "kernelspec": {
   "display_name": "Python 3",
   "language": "python",
   "name": "python3"
  },
  "language_info": {
   "codemirror_mode": {
    "name": "ipython",
    "version": 3
   },
   "file_extension": ".py",
   "mimetype": "text/x-python",
   "name": "python",
   "nbconvert_exporter": "python",
   "pygments_lexer": "ipython3",
   "version": "3.11.3"
  },
  "orig_nbformat": 4
 },
 "nbformat": 4,
 "nbformat_minor": 2
}
